{
 "cells": [
  {
   "attachments": {},
   "cell_type": "markdown",
   "metadata": {},
   "source": [
    "## Create database connection"
   ]
  },
  {
   "cell_type": "code",
   "execution_count": 1,
   "metadata": {},
   "outputs": [],
   "source": [
    "# Libraries\n",
    "import psycopg2 as ps"
   ]
  },
  {
   "cell_type": "code",
   "execution_count": 2,
   "metadata": {},
   "outputs": [],
   "source": [
    "# create connection and cursor    \n",
    "conn = ps.connect(host='postgres',\n",
    "                  database='adsproject',\n",
    "                  user='ads',\n",
    "                  password='admin123!',\n",
    "                  port='5432')\n",
    "\n",
    "cursor = conn.cursor()\n",
    "cursor.execute(\"DROP TABLE IF EXISTS EMPLOYEE\")\n",
    "#sql ='''CREATE TABLE EMPLOYEE(\n",
    "#   FIRST_NAME CHAR(20) NOT NULL,\n",
    "#   LAST_NAME CHAR(20),\n",
    "#   AGE INT,\n",
    "#   SEX CHAR(1),\n",
    "#   INCOME FLOAT\n",
    "#)'''\n",
    "#cursor.execute(sql)\n",
    "conn.commit()\n",
    "cursor.close()\n",
    "\n",
    "\n"
   ]
  }
 ],
 "metadata": {
  "kernelspec": {
   "display_name": "adsenv",
   "language": "python",
   "name": "python3"
  },
  "language_info": {
   "codemirror_mode": {
    "name": "ipython",
    "version": 3
   },
   "file_extension": ".py",
   "mimetype": "text/x-python",
   "name": "python",
   "nbconvert_exporter": "python",
   "pygments_lexer": "ipython3",
   "version": "3.10.10"
  },
  "orig_nbformat": 4
 },
 "nbformat": 4,
 "nbformat_minor": 2
}
