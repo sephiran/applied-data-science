{
 "cells": [
  {
   "attachments": {},
   "cell_type": "markdown",
   "metadata": {},
   "source": [
    "# Web scraping AirBnB"
   ]
  },
  {
   "cell_type": "code",
   "execution_count": 87,
   "metadata": {},
   "outputs": [
    {
     "name": "stdout",
     "output_type": "stream",
     "text": [
      "/Users/andreas/Nextcloud/cloud_atrip/Dokumente/Repos/applied-data-science\n"
     ]
    }
   ],
   "source": [
    "import os\n",
    "import time\n",
    "import pandas as pd\n",
    "\n",
    "from selenium import webdriver\n",
    "from selenium.webdriver.common.by import By\n",
    "from selenium.webdriver.common.keys import Keys\n",
    "from selenium.webdriver.chrome.options import Options\n",
    "from selenium.webdriver.chrome.service import Service\n",
    "from selenium.webdriver.support.ui import WebDriverWait\n",
    "from webdriver_manager.chrome import ChromeDriverManager\n",
    "from selenium.webdriver.support import expected_conditions as EC\n",
    "from selenium.common.exceptions import TimeoutException\n",
    "\n",
    "# Get current working directory\n",
    "print(os.getcwd())"
   ]
  },
  {
   "attachments": {},
   "cell_type": "markdown",
   "metadata": {},
   "source": [
    "# Url to scrape"
   ]
  },
  {
   "cell_type": "code",
   "execution_count": 88,
   "metadata": {},
   "outputs": [],
   "source": [
    "# urlStringHome = 'https://www.airbnb.ch/'\n",
    "# urlString = \"https://www.airbnb.ch/s/Z%C3%BCrich--Schweiz/homes?tab_id=home_tab&refinement_paths%5B%5D=%2Fhomes&flexible_trip_lengths%5B%5D=one_week&price_filter_input_type=0&price_filter_num_nights=5&adults=1&date_picker_type=calendar&source=structured_search_input_header&search_type=autocomplete_click&query=Z%C3%BCrich%2C%20Schweiz&room_types%5B%5D=Entire%20home%2Fapt\"\n",
    "urlStringFlat0to68 = \"https://www.airbnb.ch/s/Z%C3%BCrich--Schweiz/homes?tab_id=home_tab&refinement_paths%5B%5D=%2Fhomes&flexible_trip_lengths%5B%5D=one_week&price_filter_input_type=0&price_filter_num_nights=5&adults=1&date_picker_type=calendar&source=structured_search_input_header&search_type=filter_change&query=Z%C3%BCrich%2C%20Schweiz&room_types%5B%5D=Entire%20home%2Fapt&place_id=ChIJGaK-SZcLkEcRA9wf5_GNbuY&channel=EXPLORE&price_min=9&price_max=68\"\n",
    "urlStringFlat69to84 = \"https://www.airbnb.ch/s/Z%C3%BCrich--Schweiz/homes?tab_id=home_tab&refinement_paths%5B%5D=%2Fhomes&flexible_trip_lengths%5B%5D=one_week&price_filter_input_type=0&price_filter_num_nights=5&adults=1&date_picker_type=calendar&source=structured_search_input_header&search_type=filter_change&query=Z%C3%BCrich%2C%20Schweiz&room_types%5B%5D=Entire%20home%2Fapt&place_id=ChIJGaK-SZcLkEcRA9wf5_GNbuY&channel=EXPLORE&price_min=69&price_max=84\"\n",
    "urlStringFlat85to100 = \"https://www.airbnb.ch/s/Z%C3%BCrich--Schweiz/homes?tab_id=home_tab&refinement_paths%5B%5D=%2Fhomes&flexible_trip_lengths%5B%5D=one_week&price_filter_input_type=0&price_filter_num_nights=5&adults=1&date_picker_type=calendar&source=structured_search_input_header&search_type=filter_change&query=Z%C3%BCrich%2C%20Schweiz&room_types%5B%5D=Entire%20home%2Fapt&place_id=ChIJGaK-SZcLkEcRA9wf5_GNbuY&channel=EXPLORE&price_min=85&price_max=100\"\n",
    "urlStringFlat101to114 = \"https://www.airbnb.ch/s/Z%C3%BCrich--Schweiz/homes?tab_id=home_tab&refinement_paths%5B%5D=%2Fhomes&flexible_trip_lengths%5B%5D=one_week&price_filter_input_type=0&price_filter_num_nights=5&adults=1&date_picker_type=calendar&source=structured_search_input_header&search_type=filter_change&query=Z%C3%BCrich%2C%20Schweiz&room_types%5B%5D=Entire%20home%2Fapt&place_id=ChIJGaK-SZcLkEcRA9wf5_GNbuY&channel=EXPLORE&price_min=101&price_max=114\"\n",
    "urlStringFlat115to132 = \"https://www.airbnb.ch/s/Z%C3%BCrich--Schweiz/homes?tab_id=home_tab&refinement_paths%5B%5D=%2Fhomes&flexible_trip_lengths%5B%5D=one_week&price_filter_input_type=0&price_filter_num_nights=5&adults=1&date_picker_type=calendar&source=structured_search_input_header&search_type=filter_change&query=Z%C3%BCrich%2C%20Schweiz&room_types%5B%5D=Entire%20home%2Fapt&place_id=ChIJGaK-SZcLkEcRA9wf5_GNbuY&channel=EXPLORE&price_min=115&price_max=132\"\n",
    "urlStringFlat133to150 = \"https://www.airbnb.ch/s/Z%C3%BCrich--Schweiz/homes?tab_id=home_tab&refinement_paths%5B%5D=%2Fhomes&flexible_trip_lengths%5B%5D=one_week&price_filter_input_type=0&price_filter_num_nights=5&adults=1&date_picker_type=calendar&source=structured_search_input_header&search_type=filter_change&query=Z%C3%BCrich%2C%20Schweiz&room_types%5B%5D=Entire%20home%2Fapt&place_id=ChIJGaK-SZcLkEcRA9wf5_GNbuY&channel=EXPLORE&price_min=133&price_max=150\"\n",
    "urlStringFlat151to173 = \"https://www.airbnb.ch/s/Z%C3%BCrich--Schweiz/homes?tab_id=home_tab&refinement_paths%5B%5D=%2Fhomes&flexible_trip_lengths%5B%5D=one_week&price_filter_input_type=0&price_filter_num_nights=5&adults=1&date_picker_type=calendar&source=structured_search_input_header&search_type=filter_change&query=Z%C3%BCrich%2C%20Schweiz&room_types%5B%5D=Entire%20home%2Fapt&place_id=ChIJGaK-SZcLkEcRA9wf5_GNbuY&channel=EXPLORE&price_min=151&price_max=173\"\n",
    "urlStringFlat174to202 = \"https://www.airbnb.ch/s/Z%C3%BCrich--Schweiz/homes?tab_id=home_tab&refinement_paths%5B%5D=%2Fhomes&flexible_trip_lengths%5B%5D=one_week&price_filter_input_type=0&price_filter_num_nights=5&adults=1&date_picker_type=calendar&source=structured_search_input_header&search_type=filter_change&query=Z%C3%BCrich%2C%20Schweiz&room_types%5B%5D=Entire%20home%2Fapt&place_id=ChIJGaK-SZcLkEcRA9wf5_GNbuY&channel=EXPLORE&price_min=151&price_max=173\"\n",
    "urlStringFlat203to245 = \"https://www.airbnb.ch/s/Z%C3%BCrich--Schweiz/homes?tab_id=home_tab&refinement_paths%5B%5D=%2Fhomes&flexible_trip_lengths%5B%5D=one_week&price_filter_input_type=0&price_filter_num_nights=5&adults=1&date_picker_type=calendar&source=structured_search_input_header&search_type=filter_change&query=Z%C3%BCrich%2C%20Schweiz&room_types%5B%5D=Entire%20home%2Fapt&place_id=ChIJGaK-SZcLkEcRA9wf5_GNbuY&channel=EXPLORE&price_min=203&price_max=245\"\n",
    "urlStringFlat246to316 = \"https://www.airbnb.ch/s/Z%C3%BCrich--Schweiz/homes?tab_id=home_tab&refinement_paths%5B%5D=%2Fhomes&flexible_trip_lengths%5B%5D=one_week&price_filter_input_type=0&price_filter_num_nights=5&adults=1&date_picker_type=calendar&source=structured_search_input_header&search_type=filter_change&query=Z%C3%BCrich%2C%20Schweiz&room_types%5B%5D=Entire%20home%2Fapt&place_id=ChIJGaK-SZcLkEcRA9wf5_GNbuY&channel=EXPLORE&price_min=246&price_max=316\"\n",
    "urlStringFlat317to500 = \"https://www.airbnb.ch/s/Z%C3%BCrich--Schweiz/homes?tab_id=home_tab&refinement_paths%5B%5D=%2Fhomes&flexible_trip_lengths%5B%5D=one_week&price_filter_input_type=0&price_filter_num_nights=5&adults=1&date_picker_type=calendar&source=structured_search_input_header&search_type=filter_change&query=Z%C3%BCrich%2C%20Schweiz&room_types%5B%5D=Entire%20home%2Fapt&place_id=ChIJGaK-SZcLkEcRA9wf5_GNbuY&channel=EXPLORE&price_min=317&price_max=500\"\n",
    "urlStringFlat501to1000 = \"https://www.airbnb.ch/s/Z%C3%BCrich--Schweiz/homes?tab_id=home_tab&refinement_paths%5B%5D=%2Fhomes&flexible_trip_lengths%5B%5D=one_week&price_filter_input_type=0&price_filter_num_nights=5&adults=1&date_picker_type=calendar&source=structured_search_input_header&search_type=filter_change&query=Z%C3%BCrich%2C%20Schweiz&room_types%5B%5D=Entire%20home%2Fapt&place_id=ChIJGaK-SZcLkEcRA9wf5_GNbuY&channel=EXPLORE&price_min=501&price_max=1000\""
   ]
  },
  {
   "cell_type": "code",
   "execution_count": 89,
   "metadata": {},
   "outputs": [
    {
     "name": "stdout",
     "output_type": "stream",
     "text": [
      "https://www.airbnb.ch/s/Z%C3%BCrich--Schweiz/homes?tab_id=home_tab&refinement_paths%5B%5D=%2Fhomes&flexible_trip_lengths%5B%5D=one_week&price_filter_input_type=0&price_filter_num_nights=5&adults=1&date_picker_type=calendar&source=structured_search_input_header&search_type=filter_change&query=Z%C3%BCrich%2C%20Schweiz&room_types%5B%5D=Entire%20home%2Fapt&place_id=ChIJGaK-SZcLkEcRA9wf5_GNbuY&channel=EXPLORE&price_min=69&price_max=84\n",
      "Erstklassige Unterkünfte & Ferienunterkünfte in Zürich: Gesamte Unterkunft | Airbnb\n"
     ]
    }
   ],
   "source": [
    "# Set options for Chrome-Driver (headless mode)\n",
    "opts = Options()\n",
    "opts.add_argument(\"--window-size=1200,800\")\n",
    "driver = webdriver.Chrome(service=Service(ChromeDriverManager().install()), options=opts)\n",
    "\n",
    "# Website to scrape\n",
    "driver.get(urlStringFlat69to84)\n",
    "\n",
    "# Get current url\n",
    "print(driver.current_url)\n",
    "\n",
    "# Return the full page HTML code\n",
    "# print(driver.page_source)\n",
    "\n",
    "# Gets the page's title\n",
    "print(driver.title)\n",
    "\n",
    "# Close driver\n",
    "# driver.close()"
   ]
  },
  {
   "cell_type": "code",
   "execution_count": 90,
   "metadata": {},
   "outputs": [],
   "source": [
    "#time.sleep(5)\n",
    "# wait till cookie banner pops up\n",
    "try:\n",
    "    # close cookie banner\n",
    "    cookie = WebDriverWait(driver, 10).until(EC.element_to_be_clickable((By.XPATH, \"/html[@class='js-focus-visible']/body[@class='with-new-header']/div[5]/div/div/div/div[1]/div[3]/section/div[2]/div[2]/button\"))) \n",
    "    cookie.click()\n",
    "except:\n",
    "    pass"
   ]
  },
  {
   "cell_type": "code",
   "execution_count": 91,
   "metadata": {},
   "outputs": [
    {
     "data": {
      "text/plain": [
       "18"
      ]
     },
     "execution_count": 91,
     "metadata": {},
     "output_type": "execute_result"
    }
   ],
   "source": [
    "# get entries of apparements on page\n",
    "nr_appartements = len(driver.find_elements(By.XPATH, \"/html/body/div[5]/div/div/div[1]/div/div[2]/div/div/div/div/div/div[2]/main/div[2]/div[2]/div/div/div/div/div/div\"))\n",
    "nr_appartements"
   ]
  },
  {
   "attachments": {},
   "cell_type": "markdown",
   "metadata": {},
   "source": [
    "## Fields to scrape from detail appartement page\n",
    "\n",
    "* Kommentare\n",
    "* Preis\n",
    "* Standort \n",
    "* Gesamt Rating\n",
    "  * Alle Subfelder Sauberkeit, Kommunikation etc.\n",
    "* Anz. Gäste\n",
    "* Anz. Schlafzimmer \n",
    "* Anz. Better\n",
    "* Anz. Badezimmer \n",
    "* Anz. Bewertungen\n",
    "* Wo du schlafen wirst\n",
    "* Ort Zürich"
   ]
  },
  {
   "cell_type": "code",
   "execution_count": 98,
   "metadata": {},
   "outputs": [],
   "source": [
    "# scrapping logic for detail page apartment\n",
    "def scrap_appartement(nr_of_flat):\n",
    "    \n",
    "    XPATH_APARETMENT_NAME = \"/html/body/div[5]/div/div/div[1]/div/div[2]/div/div/div/div[1]/main/div/div[1]/div[1]/div[1]/div/div/div/div/section/div[1]/span/h1\"\n",
    "    apartment_name = \"\"\n",
    "\n",
    "    XPATH_PRICE = \"/html/body/div[5]/div/div/div[1]/div/div[2]/div/div/div/div[1]/main/div/div[1]/div[3]/div/div[2]/div/div/div[1]/div/div/div/div/div/div/div[1]/div[1]/div[1]/div/span/div/span[1]\"\n",
    "    apartment_price = \"\"\n",
    "\n",
    "    XPATH_PLACE = \"/html/body/div[5]/div/div/div[1]/div/div[2]/div/div/div/div[1]/main/div/div[1]/div[1]/div[1]/div/div/div/div/section/div[2]/div[1]/span[3]/button/span\"\n",
    "    XPATH_PLACE_2 = \"/html/body/div[5]/div/div/div[1]/div/div[2]/div/div/div/div[1]/main/div/div[1]/div[1]/div[1]/div/div/div/div/section/div[2]/div[1]/span[5]/button/span\"\n",
    "    apartment_place = \"\"\n",
    "\n",
    "    print(nr_of_flat)\n",
    "    # check if page title is present\n",
    "    try:\n",
    "        element_present = EC.presence_of_element_located((By.XPATH, \"/html/body/div[5]/div/div/div[1]/div/div[2]/div/div/div/div[1]/main/div/div[1]/div[1]/div[1]/div/div/div/div/section/div[1]/span/h1\"))\n",
    "        WebDriverWait(driver, 6).until(element_present)\n",
    "    except TimeoutException:\n",
    "        print(\"Timed out waiting for page to load\")\n",
    "        return\n",
    "    \n",
    "    try:\n",
    "        apartment_name = WebDriverWait(driver, 2).until(EC.visibility_of_element_located((By.XPATH, XPATH_APARETMENT_NAME))).text\n",
    "    except:\n",
    "        pass\n",
    "\n",
    "    try:\n",
    "        apartment_price = WebDriverWait(driver, 2).until(EC.visibility_of_element_located((By.XPATH, XPATH_PRICE))).text\n",
    "    except:\n",
    "        pass\n",
    "\n",
    "    try:\n",
    "        if driver.find_elements(By.XPATH, XPATH_PLACE):\n",
    "            apartment_place = driver.find_element(By.XPATH, XPATH_PLACE).text\n",
    "        else:\n",
    "            apartment_place = driver.find_element(By.XPATH, XPATH_PLACE_2).text\n",
    "    except:\n",
    "        pass\n",
    "    \n",
    "    return {'name': [apartment_name], 'price': [apartment_price], 'place': [apartment_place]}"
   ]
  },
  {
   "cell_type": "code",
   "execution_count": 99,
   "metadata": {},
   "outputs": [],
   "source": [
    "def handle_appartements_tabs(nr_appartements):\n",
    "    # Click on each appartement which is opened in seperate tab\n",
    "    apartments = pd.DataFrame()\n",
    "    for nr in range(1, nr_appartements):\n",
    "        xpath = f\"/html/body/div[5]/div/div/div[1]/div/div[2]/div/div/div/div/div/div[2]/main/div[2]/div[2]/div/div/div/div/div/div[{nr}]\"\n",
    "        driver.find_element(By.XPATH, xpath).click()\n",
    "\n",
    "        try:\n",
    "            # switch tab\n",
    "            #get old tab\n",
    "            parent = driver.window_handles[0]\n",
    "            #get new tab\n",
    "            chld = driver.window_handles[1]\n",
    "            #switch to new tab\n",
    "            driver.switch_to.window(chld)\n",
    "        except:\n",
    "            print(\"could not swtich tab\")\n",
    "\n",
    "        if nr == 1:\n",
    "            try:\n",
    "                # close translate banner\n",
    "                transl = WebDriverWait(driver, 3).until(EC.element_to_be_clickable((By.XPATH, \"/html/body/div[9]/section/div/div/div[2]/div/div[1]/button\"))) \n",
    "                transl.click()\n",
    "            except:\n",
    "                pass\n",
    "        \n",
    "        apartment_scraped = scrap_appartement(nr)\n",
    "        apartments = pd.concat([apartments, pd.DataFrame(apartment_scraped)])\n",
    "        \n",
    "        try: \n",
    "            # close tab\n",
    "            parent = driver.window_handles[0]\n",
    "            chld = driver.window_handles[1]\n",
    "            driver.switch_to.window(chld)\n",
    "            driver.close()\n",
    "            time.sleep(0.5)\n",
    "            parent = driver.window_handles[0]\n",
    "            driver.switch_to.window(parent)\n",
    "        except:\n",
    "            print(\"could not close tab\")\n",
    "    \n",
    "    return apartments\n",
    "    "
   ]
  },
  {
   "cell_type": "code",
   "execution_count": 100,
   "metadata": {},
   "outputs": [
    {
     "name": "stdout",
     "output_type": "stream",
     "text": [
      "1\n",
      "2\n",
      "3\n",
      "4\n",
      "5\n",
      "6\n",
      "7\n"
     ]
    },
    {
     "data": {
      "text/html": [
       "<div>\n",
       "<style scoped>\n",
       "    .dataframe tbody tr th:only-of-type {\n",
       "        vertical-align: middle;\n",
       "    }\n",
       "\n",
       "    .dataframe tbody tr th {\n",
       "        vertical-align: top;\n",
       "    }\n",
       "\n",
       "    .dataframe thead th {\n",
       "        text-align: right;\n",
       "    }\n",
       "</style>\n",
       "<table border=\"1\" class=\"dataframe\">\n",
       "  <thead>\n",
       "    <tr style=\"text-align: right;\">\n",
       "      <th></th>\n",
       "      <th>name</th>\n",
       "      <th>price</th>\n",
       "      <th>place</th>\n",
       "    </tr>\n",
       "  </thead>\n",
       "  <tbody>\n",
       "    <tr>\n",
       "      <th>0</th>\n",
       "      <td>25m2 quiet Studio in Zürich (K11)</td>\n",
       "      <td>63 CHF</td>\n",
       "      <td>Zürich, Schweiz</td>\n",
       "    </tr>\n",
       "    <tr>\n",
       "      <th>0</th>\n",
       "      <td>Stadt Zürich15/ kleines Studio</td>\n",
       "      <td>62 CHF</td>\n",
       "      <td>Zürich, Schweiz</td>\n",
       "    </tr>\n",
       "    <tr>\n",
       "      <th>0</th>\n",
       "      <td>Goldiges See Apartment</td>\n",
       "      <td></td>\n",
       "      <td>Küsnacht, Zürich, Schweiz</td>\n",
       "    </tr>\n",
       "    <tr>\n",
       "      <th>0</th>\n",
       "      <td>30min Zürich, Baden, Aarau, Luzern</td>\n",
       "      <td>54 CHF</td>\n",
       "      <td>Kallern, Aargau, Schweiz</td>\n",
       "    </tr>\n",
       "    <tr>\n",
       "      <th>0</th>\n",
       "      <td>Cosy studio close to hot spots</td>\n",
       "      <td>82 CHF</td>\n",
       "      <td>Zürich, Schweiz</td>\n",
       "    </tr>\n",
       "    <tr>\n",
       "      <th>0</th>\n",
       "      <td>Premium BnB white, luxus Boxspring Bed</td>\n",
       "      <td>62 CHF</td>\n",
       "      <td>Russikon, Zürich, Schweiz</td>\n",
       "    </tr>\n",
       "    <tr>\n",
       "      <th>0</th>\n",
       "      <td>Affoltern a.A. Dachwohnung/ Attic apartement</td>\n",
       "      <td>60 CHF</td>\n",
       "      <td>Affoltern am Albis, Zürich, Schweiz</td>\n",
       "    </tr>\n",
       "  </tbody>\n",
       "</table>\n",
       "</div>"
      ],
      "text/plain": [
       "                                           name    price  \\\n",
       "0             25m2 quiet Studio in Zürich (K11)  63 CHF    \n",
       "0                Stadt Zürich15/ kleines Studio  62 CHF    \n",
       "0                        Goldiges See Apartment            \n",
       "0            30min Zürich, Baden, Aarau, Luzern  54 CHF    \n",
       "0                Cosy studio close to hot spots  82 CHF    \n",
       "0        Premium BnB white, luxus Boxspring Bed  62 CHF    \n",
       "0  Affoltern a.A. Dachwohnung/ Attic apartement  60 CHF    \n",
       "\n",
       "                                 place  \n",
       "0                      Zürich, Schweiz  \n",
       "0                      Zürich, Schweiz  \n",
       "0            Küsnacht, Zürich, Schweiz  \n",
       "0             Kallern, Aargau, Schweiz  \n",
       "0                      Zürich, Schweiz  \n",
       "0            Russikon, Zürich, Schweiz  \n",
       "0  Affoltern am Albis, Zürich, Schweiz  "
      ]
     },
     "execution_count": 100,
     "metadata": {},
     "output_type": "execute_result"
    }
   ],
   "source": [
    "#for testing...\n",
    "apa_test = handle_appartements_tabs(8)\n",
    "apa_test"
   ]
  },
  {
   "cell_type": "code",
   "execution_count": 62,
   "metadata": {},
   "outputs": [
    {
     "data": {
      "text/plain": [
       "11"
      ]
     },
     "execution_count": 62,
     "metadata": {},
     "output_type": "execute_result"
    }
   ],
   "source": [
    "nr_pages = driver.find_element(By.XPATH, \"/html/body/div[5]/div/div/div[1]/div/div[2]/div/div/div/div/div/div[2]/main/div[2]/div[3]/div/div/nav/div/a[4]\").text\n",
    "nr_pages = int(nr_pages)\n",
    "nr_pages"
   ]
  },
  {
   "cell_type": "code",
   "execution_count": null,
   "metadata": {},
   "outputs": [],
   "source": [
    "for nr_p in range(1, nr_pages):\n",
    "    handle_appartements_tabs(nr_appartements + 1)\n",
    "    if nr_p == 1:\n",
    "        driver.find_element(By.XPATH, \"/html/body/div[5]/div/div/div[1]/div/div[2]/div/div/div/div/div/div[2]/main/div[2]/div[3]/div/div/nav/div/a[5]\").click()\n",
    "    else:\n",
    "        driver.find_element(By.XPATH, \"/html/body/div[5]/div/div/div[1]/div/div[2]/div/div/div/div/div/div[2]/main/div[2]/div[3]/div/div/nav/div/a[6]\").click()"
   ]
  },
  {
   "cell_type": "code",
   "execution_count": 86,
   "metadata": {},
   "outputs": [],
   "source": [
    "parent = driver.window_handles[0]\n",
    "driver.switch_to.window(parent)\n",
    "driver.close()"
   ]
  },
  {
   "cell_type": "code",
   "execution_count": null,
   "metadata": {},
   "outputs": [],
   "source": []
  },
  {
   "cell_type": "code",
   "execution_count": null,
   "metadata": {},
   "outputs": [],
   "source": []
  }
 ],
 "metadata": {
  "kernelspec": {
   "display_name": "ads-env",
   "language": "python",
   "name": "python3"
  },
  "language_info": {
   "codemirror_mode": {
    "name": "ipython",
    "version": 3
   },
   "file_extension": ".py",
   "mimetype": "text/x-python",
   "name": "python",
   "nbconvert_exporter": "python",
   "pygments_lexer": "ipython3",
   "version": "3.9.6"
  },
  "orig_nbformat": 4
 },
 "nbformat": 4,
 "nbformat_minor": 2
}
