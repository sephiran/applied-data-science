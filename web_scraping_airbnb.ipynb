{
 "cells": [
  {
   "attachments": {},
   "cell_type": "markdown",
   "metadata": {},
   "source": [
    "# Web scraping AirBnB"
   ]
  },
  {
   "cell_type": "code",
   "execution_count": 224,
   "metadata": {},
   "outputs": [
    {
     "name": "stdout",
     "output_type": "stream",
     "text": [
      "/Users/andreas/Nextcloud/cloud_atrip/Dokumente/Repos/applied-data-science\n"
     ]
    }
   ],
   "source": [
    "import os\n",
    "import time\n",
    "import pandas as pd\n",
    "import urllib.parse as urlparse\n",
    "from urllib.parse import parse_qs\n",
    "\n",
    "from selenium import webdriver\n",
    "from selenium.webdriver.common.by import By\n",
    "from selenium.webdriver.chrome.options import Options\n",
    "from selenium.webdriver.chrome.service import Service\n",
    "from selenium.webdriver.support.ui import WebDriverWait\n",
    "from webdriver_manager.chrome import ChromeDriverManager\n",
    "from selenium.webdriver.support import expected_conditions as EC\n",
    "from selenium.common.exceptions import TimeoutException\n",
    "from bs4 import BeautifulSoup\n",
    "\n",
    "# Get current working directory\n",
    "print(os.getcwd())"
   ]
  },
  {
   "attachments": {},
   "cell_type": "markdown",
   "metadata": {},
   "source": [
    "# Url to scrape"
   ]
  },
  {
   "cell_type": "code",
   "execution_count": 225,
   "metadata": {},
   "outputs": [],
   "source": [
    "# urlStringHome = 'https://www.airbnb.ch/'\n",
    "# urlString = \"https://www.airbnb.ch/s/Z%C3%BCrich--Schweiz/homes?tab_id=home_tab&refinement_paths%5B%5D=%2Fhomes&flexible_trip_lengths%5B%5D=one_week&price_filter_input_type=0&price_filter_num_nights=5&adults=1&date_picker_type=calendar&source=structured_search_input_header&search_type=autocomplete_click&query=Z%C3%BCrich%2C%20Schweiz&room_types%5B%5D=Entire%20home%2Fapt\"\n",
    "# urlStringFlat0to68 = \"https://www.airbnb.ch/s/Z%C3%BCrich--Schweiz/homes?tab_id=home_tab&refinement_paths%5B%5D=%2Fhomes&flexible_trip_lengths%5B%5D=one_week&price_filter_input_type=0&price_filter_num_nights=5&adults=1&date_picker_type=calendar&source=structured_search_input_header&search_type=filter_change&query=Z%C3%BCrich%2C%20Schweiz&room_types%5B%5D=Entire%20home%2Fapt&place_id=ChIJGaK-SZcLkEcRA9wf5_GNbuY&channel=EXPLORE&price_min=9&price_max=68\"\n",
    "# urlStringFlat69to84 = \"https://www.airbnb.ch/s/Z%C3%BCrich--Schweiz/homes?tab_id=home_tab&refinement_paths%5B%5D=%2Fhomes&flexible_trip_lengths%5B%5D=one_week&price_filter_input_type=0&price_filter_num_nights=5&adults=1&date_picker_type=calendar&source=structured_search_input_header&search_type=filter_change&query=Z%C3%BCrich%2C%20Schweiz&room_types%5B%5D=Entire%20home%2Fapt&place_id=ChIJGaK-SZcLkEcRA9wf5_GNbuY&channel=EXPLORE&price_min=69&price_max=84\"\n",
    "# urlStringFlat85to100 = \"https://www.airbnb.ch/s/Z%C3%BCrich--Schweiz/homes?tab_id=home_tab&refinement_paths%5B%5D=%2Fhomes&flexible_trip_lengths%5B%5D=one_week&price_filter_input_type=0&price_filter_num_nights=5&adults=1&date_picker_type=calendar&source=structured_search_input_header&search_type=filter_change&query=Z%C3%BCrich%2C%20Schweiz&room_types%5B%5D=Entire%20home%2Fapt&place_id=ChIJGaK-SZcLkEcRA9wf5_GNbuY&channel=EXPLORE&price_min=85&price_max=100\"\n",
    "# urlStringFlat101to114 = \"https://www.airbnb.ch/s/Z%C3%BCrich--Schweiz/homes?tab_id=home_tab&refinement_paths%5B%5D=%2Fhomes&flexible_trip_lengths%5B%5D=one_week&price_filter_input_type=0&price_filter_num_nights=5&adults=1&date_picker_type=calendar&source=structured_search_input_header&search_type=filter_change&query=Z%C3%BCrich%2C%20Schweiz&room_types%5B%5D=Entire%20home%2Fapt&place_id=ChIJGaK-SZcLkEcRA9wf5_GNbuY&channel=EXPLORE&price_min=101&price_max=114\"\n",
    "# urlStringFlat115to132 = \"https://www.airbnb.ch/s/Z%C3%BCrich--Schweiz/homes?tab_id=home_tab&refinement_paths%5B%5D=%2Fhomes&flexible_trip_lengths%5B%5D=one_week&price_filter_input_type=0&price_filter_num_nights=5&adults=1&date_picker_type=calendar&source=structured_search_input_header&search_type=filter_change&query=Z%C3%BCrich%2C%20Schweiz&room_types%5B%5D=Entire%20home%2Fapt&place_id=ChIJGaK-SZcLkEcRA9wf5_GNbuY&channel=EXPLORE&price_min=115&price_max=132\"\n",
    "# urlStringFlat133to150 = \"https://www.airbnb.ch/s/Z%C3%BCrich--Schweiz/homes?tab_id=home_tab&refinement_paths%5B%5D=%2Fhomes&flexible_trip_lengths%5B%5D=one_week&price_filter_input_type=0&price_filter_num_nights=5&adults=1&date_picker_type=calendar&source=structured_search_input_header&search_type=filter_change&query=Z%C3%BCrich%2C%20Schweiz&room_types%5B%5D=Entire%20home%2Fapt&place_id=ChIJGaK-SZcLkEcRA9wf5_GNbuY&channel=EXPLORE&price_min=133&price_max=150\"\n",
    "# urlStringFlat151to173 = \"https://www.airbnb.ch/s/Z%C3%BCrich--Schweiz/homes?tab_id=home_tab&refinement_paths%5B%5D=%2Fhomes&flexible_trip_lengths%5B%5D=one_week&price_filter_input_type=0&price_filter_num_nights=5&adults=1&date_picker_type=calendar&source=structured_search_input_header&search_type=filter_change&query=Z%C3%BCrich%2C%20Schweiz&room_types%5B%5D=Entire%20home%2Fapt&place_id=ChIJGaK-SZcLkEcRA9wf5_GNbuY&channel=EXPLORE&price_min=151&price_max=173\"\n",
    "# urlStringFlat174to202 = \"https://www.airbnb.ch/s/Z%C3%BCrich--Schweiz/homes?tab_id=home_tab&refinement_paths%5B%5D=%2Fhomes&flexible_trip_lengths%5B%5D=one_week&price_filter_input_type=0&price_filter_num_nights=5&adults=1&date_picker_type=calendar&source=structured_search_input_header&search_type=filter_change&query=Z%C3%BCrich%2C%20Schweiz&room_types%5B%5D=Entire%20home%2Fapt&place_id=ChIJGaK-SZcLkEcRA9wf5_GNbuY&channel=EXPLORE&price_min=151&price_max=173\"\n",
    "# urlStringFlat203to245 = \"https://www.airbnb.ch/s/Z%C3%BCrich--Schweiz/homes?tab_id=home_tab&refinement_paths%5B%5D=%2Fhomes&flexible_trip_lengths%5B%5D=one_week&price_filter_input_type=0&price_filter_num_nights=5&adults=1&date_picker_type=calendar&source=structured_search_input_header&search_type=filter_change&query=Z%C3%BCrich%2C%20Schweiz&room_types%5B%5D=Entire%20home%2Fapt&place_id=ChIJGaK-SZcLkEcRA9wf5_GNbuY&channel=EXPLORE&price_min=203&price_max=245\"\n",
    "# urlStringFlat246to316 = \"https://www.airbnb.ch/s/Z%C3%BCrich--Schweiz/homes?tab_id=home_tab&refinement_paths%5B%5D=%2Fhomes&flexible_trip_lengths%5B%5D=one_week&price_filter_input_type=0&price_filter_num_nights=5&adults=1&date_picker_type=calendar&source=structured_search_input_header&search_type=filter_change&query=Z%C3%BCrich%2C%20Schweiz&room_types%5B%5D=Entire%20home%2Fapt&place_id=ChIJGaK-SZcLkEcRA9wf5_GNbuY&channel=EXPLORE&price_min=246&price_max=316\"\n",
    "# urlStringFlat317to500 = \"https://www.airbnb.ch/s/Z%C3%BCrich--Schweiz/homes?tab_id=home_tab&refinement_paths%5B%5D=%2Fhomes&flexible_trip_lengths%5B%5D=one_week&price_filter_input_type=0&price_filter_num_nights=5&adults=1&date_picker_type=calendar&source=structured_search_input_header&search_type=filter_change&query=Z%C3%BCrich%2C%20Schweiz&room_types%5B%5D=Entire%20home%2Fapt&place_id=ChIJGaK-SZcLkEcRA9wf5_GNbuY&channel=EXPLORE&price_min=317&price_max=500\"\n",
    "# urlStringFlat501to1000 = \"https://www.airbnb.ch/s/Z%C3%BCrich--Schweiz/homes?tab_id=home_tab&refinement_paths%5B%5D=%2Fhomes&flexible_trip_lengths%5B%5D=one_week&price_filter_input_type=0&price_filter_num_nights=5&adults=1&date_picker_type=calendar&source=structured_search_input_header&search_type=filter_change&query=Z%C3%BCrich%2C%20Schweiz&room_types%5B%5D=Entire%20home%2Fapt&place_id=ChIJGaK-SZcLkEcRA9wf5_GNbuY&channel=EXPLORE&price_min=501&price_max=1000\"\n",
    "# define price range for scraping, place etc is already definied in buildURL func\n",
    "url_range = [[0,68],[69,84],[85,100],[101,114],[114,132],[133,150],[151,173],[174,202],[203,245],[246,316],[317,500],[501,1000]]"
   ]
  },
  {
   "cell_type": "code",
   "execution_count": 226,
   "metadata": {},
   "outputs": [],
   "source": [
    "def buildURL(p_range):\n",
    "    builded_urls = []\n",
    "    for p in p_range:\n",
    "        url = f\"https://www.airbnb.ch/s/Z%C3%BCrich--Schweiz/homes?tab_id=home_tab&refinement_paths%5B%5D=%2Fhomes&flexible_trip_lengths%5B%5D=one_week&price_filter_input_type=0&price_filter_num_nights=5&adults=1&date_picker_type=calendar&source=structured_search_input_header&search_type=filter_change&query=Z%C3%BCrich%2C%20Schweiz&room_types%5B%5D=Entire%20home%2Fapt&place_id=ChIJGaK-SZcLkEcRA9wf5_GNbuY&channel=EXPLORE&price_min={p[0]}&price_max={p[1]}\"\n",
    "        builded_urls.append(url)\n",
    "    return builded_urls"
   ]
  },
  {
   "cell_type": "code",
   "execution_count": 227,
   "metadata": {},
   "outputs": [
    {
     "data": {
      "text/plain": [
       "['https://www.airbnb.ch/s/Z%C3%BCrich--Schweiz/homes?tab_id=home_tab&refinement_paths%5B%5D=%2Fhomes&flexible_trip_lengths%5B%5D=one_week&price_filter_input_type=0&price_filter_num_nights=5&adults=1&date_picker_type=calendar&source=structured_search_input_header&search_type=filter_change&query=Z%C3%BCrich%2C%20Schweiz&room_types%5B%5D=Entire%20home%2Fapt&place_id=ChIJGaK-SZcLkEcRA9wf5_GNbuY&channel=EXPLORE&price_min=0&price_max=68',\n",
       " 'https://www.airbnb.ch/s/Z%C3%BCrich--Schweiz/homes?tab_id=home_tab&refinement_paths%5B%5D=%2Fhomes&flexible_trip_lengths%5B%5D=one_week&price_filter_input_type=0&price_filter_num_nights=5&adults=1&date_picker_type=calendar&source=structured_search_input_header&search_type=filter_change&query=Z%C3%BCrich%2C%20Schweiz&room_types%5B%5D=Entire%20home%2Fapt&place_id=ChIJGaK-SZcLkEcRA9wf5_GNbuY&channel=EXPLORE&price_min=69&price_max=84',\n",
       " 'https://www.airbnb.ch/s/Z%C3%BCrich--Schweiz/homes?tab_id=home_tab&refinement_paths%5B%5D=%2Fhomes&flexible_trip_lengths%5B%5D=one_week&price_filter_input_type=0&price_filter_num_nights=5&adults=1&date_picker_type=calendar&source=structured_search_input_header&search_type=filter_change&query=Z%C3%BCrich%2C%20Schweiz&room_types%5B%5D=Entire%20home%2Fapt&place_id=ChIJGaK-SZcLkEcRA9wf5_GNbuY&channel=EXPLORE&price_min=85&price_max=100',\n",
       " 'https://www.airbnb.ch/s/Z%C3%BCrich--Schweiz/homes?tab_id=home_tab&refinement_paths%5B%5D=%2Fhomes&flexible_trip_lengths%5B%5D=one_week&price_filter_input_type=0&price_filter_num_nights=5&adults=1&date_picker_type=calendar&source=structured_search_input_header&search_type=filter_change&query=Z%C3%BCrich%2C%20Schweiz&room_types%5B%5D=Entire%20home%2Fapt&place_id=ChIJGaK-SZcLkEcRA9wf5_GNbuY&channel=EXPLORE&price_min=101&price_max=114',\n",
       " 'https://www.airbnb.ch/s/Z%C3%BCrich--Schweiz/homes?tab_id=home_tab&refinement_paths%5B%5D=%2Fhomes&flexible_trip_lengths%5B%5D=one_week&price_filter_input_type=0&price_filter_num_nights=5&adults=1&date_picker_type=calendar&source=structured_search_input_header&search_type=filter_change&query=Z%C3%BCrich%2C%20Schweiz&room_types%5B%5D=Entire%20home%2Fapt&place_id=ChIJGaK-SZcLkEcRA9wf5_GNbuY&channel=EXPLORE&price_min=114&price_max=132',\n",
       " 'https://www.airbnb.ch/s/Z%C3%BCrich--Schweiz/homes?tab_id=home_tab&refinement_paths%5B%5D=%2Fhomes&flexible_trip_lengths%5B%5D=one_week&price_filter_input_type=0&price_filter_num_nights=5&adults=1&date_picker_type=calendar&source=structured_search_input_header&search_type=filter_change&query=Z%C3%BCrich%2C%20Schweiz&room_types%5B%5D=Entire%20home%2Fapt&place_id=ChIJGaK-SZcLkEcRA9wf5_GNbuY&channel=EXPLORE&price_min=133&price_max=150',\n",
       " 'https://www.airbnb.ch/s/Z%C3%BCrich--Schweiz/homes?tab_id=home_tab&refinement_paths%5B%5D=%2Fhomes&flexible_trip_lengths%5B%5D=one_week&price_filter_input_type=0&price_filter_num_nights=5&adults=1&date_picker_type=calendar&source=structured_search_input_header&search_type=filter_change&query=Z%C3%BCrich%2C%20Schweiz&room_types%5B%5D=Entire%20home%2Fapt&place_id=ChIJGaK-SZcLkEcRA9wf5_GNbuY&channel=EXPLORE&price_min=151&price_max=173',\n",
       " 'https://www.airbnb.ch/s/Z%C3%BCrich--Schweiz/homes?tab_id=home_tab&refinement_paths%5B%5D=%2Fhomes&flexible_trip_lengths%5B%5D=one_week&price_filter_input_type=0&price_filter_num_nights=5&adults=1&date_picker_type=calendar&source=structured_search_input_header&search_type=filter_change&query=Z%C3%BCrich%2C%20Schweiz&room_types%5B%5D=Entire%20home%2Fapt&place_id=ChIJGaK-SZcLkEcRA9wf5_GNbuY&channel=EXPLORE&price_min=174&price_max=202',\n",
       " 'https://www.airbnb.ch/s/Z%C3%BCrich--Schweiz/homes?tab_id=home_tab&refinement_paths%5B%5D=%2Fhomes&flexible_trip_lengths%5B%5D=one_week&price_filter_input_type=0&price_filter_num_nights=5&adults=1&date_picker_type=calendar&source=structured_search_input_header&search_type=filter_change&query=Z%C3%BCrich%2C%20Schweiz&room_types%5B%5D=Entire%20home%2Fapt&place_id=ChIJGaK-SZcLkEcRA9wf5_GNbuY&channel=EXPLORE&price_min=203&price_max=245',\n",
       " 'https://www.airbnb.ch/s/Z%C3%BCrich--Schweiz/homes?tab_id=home_tab&refinement_paths%5B%5D=%2Fhomes&flexible_trip_lengths%5B%5D=one_week&price_filter_input_type=0&price_filter_num_nights=5&adults=1&date_picker_type=calendar&source=structured_search_input_header&search_type=filter_change&query=Z%C3%BCrich%2C%20Schweiz&room_types%5B%5D=Entire%20home%2Fapt&place_id=ChIJGaK-SZcLkEcRA9wf5_GNbuY&channel=EXPLORE&price_min=246&price_max=316',\n",
       " 'https://www.airbnb.ch/s/Z%C3%BCrich--Schweiz/homes?tab_id=home_tab&refinement_paths%5B%5D=%2Fhomes&flexible_trip_lengths%5B%5D=one_week&price_filter_input_type=0&price_filter_num_nights=5&adults=1&date_picker_type=calendar&source=structured_search_input_header&search_type=filter_change&query=Z%C3%BCrich%2C%20Schweiz&room_types%5B%5D=Entire%20home%2Fapt&place_id=ChIJGaK-SZcLkEcRA9wf5_GNbuY&channel=EXPLORE&price_min=317&price_max=500',\n",
       " 'https://www.airbnb.ch/s/Z%C3%BCrich--Schweiz/homes?tab_id=home_tab&refinement_paths%5B%5D=%2Fhomes&flexible_trip_lengths%5B%5D=one_week&price_filter_input_type=0&price_filter_num_nights=5&adults=1&date_picker_type=calendar&source=structured_search_input_header&search_type=filter_change&query=Z%C3%BCrich%2C%20Schweiz&room_types%5B%5D=Entire%20home%2Fapt&place_id=ChIJGaK-SZcLkEcRA9wf5_GNbuY&channel=EXPLORE&price_min=501&price_max=1000']"
      ]
     },
     "execution_count": 227,
     "metadata": {},
     "output_type": "execute_result"
    }
   ],
   "source": [
    "url_to_scrape = buildURL(url_range)\n",
    "url_to_scrape"
   ]
  },
  {
   "cell_type": "code",
   "execution_count": 228,
   "metadata": {},
   "outputs": [
    {
     "name": "stdout",
     "output_type": "stream",
     "text": [
      "https://www.airbnb.ch/s/Z%C3%BCrich--Schweiz/homes?tab_id=home_tab&refinement_paths%5B%5D=%2Fhomes&flexible_trip_lengths%5B%5D=one_week&price_filter_input_type=0&price_filter_num_nights=5&adults=1&date_picker_type=calendar&source=structured_search_input_header&search_type=filter_change&query=Z%C3%BCrich%2C%20Schweiz&room_types%5B%5D=Entire%20home%2Fapt&place_id=ChIJGaK-SZcLkEcRA9wf5_GNbuY&channel=EXPLORE&price_min=101&price_max=114\n",
      "Erstklassige Unterkünfte & Ferienunterkünfte in Zürich: Gesamte Unterkunft | Airbnb\n"
     ]
    }
   ],
   "source": [
    "# Set options for Chrome-Driver (headless mode)\n",
    "opts = Options()\n",
    "#opts.add_argument(\"--window-size=1200,800\")\n",
    "opts.add_argument(\"--headless\")\n",
    "driver = webdriver.Chrome(service=Service(ChromeDriverManager().install()), options=opts)\n",
    "\n",
    "# Website to scrape\n",
    "driver.get(url_to_scrape[3])\n",
    "\n",
    "# Get current url\n",
    "print(driver.current_url)\n",
    "\n",
    "# Return the full page HTML code\n",
    "# print(driver.page_source)\n",
    "\n",
    "# Gets the page's title\n",
    "print(driver.title)\n",
    "\n",
    "# Close driver\n",
    "# driver.close()"
   ]
  },
  {
   "cell_type": "code",
   "execution_count": 229,
   "metadata": {},
   "outputs": [],
   "source": [
    "# wait till cookie banner pops up\n",
    "try:\n",
    "    # close cookie banner\n",
    "    cookie = WebDriverWait(driver, 10).until(EC.element_to_be_clickable((By.XPATH, \"/html[@class='js-focus-visible']/body[@class='with-new-header']/div[5]/div/div/div/div[1]/div[3]/section/div[2]/div[2]/button\"))) \n",
    "    cookie.click()\n",
    "except:\n",
    "    pass"
   ]
  },
  {
   "attachments": {},
   "cell_type": "markdown",
   "metadata": {},
   "source": [
    "## Fields to scrape from detail apartment page\n",
    "\n",
    "* Preis\n",
    "* Standort\n",
    "* Gesamt Rating\n",
    "  * Alle Subfelder Sauberkeit, Kommunikation etc.\n",
    "* Anz. Gäste\n",
    "* Anz. Schlafzimmer \n",
    "* Anz. Better\n",
    "* Anz. Badezimmer \n",
    "* Ameneties\n",
    "* Koordinaten Wohnung\n",
    "* Anz. Bewertungen\n",
    "* Kommentare"
   ]
  },
  {
   "cell_type": "code",
   "execution_count": 231,
   "metadata": {},
   "outputs": [],
   "source": [
    "# helper func to scrape comments\n",
    "def scrape_comments():\n",
    "    comments = []\n",
    "    XPATH_COMMENTS_BTN = \"/html/body/div[5]/div/div/div[1]/div/div[2]/div/div/div/div[1]/main/div/div[1]/div[4]/div/div/div/div[2]/section/div[4]/button\"\n",
    "    XPATH_COMMENTS_BTN_CLOSE = \"/html/body/div[9]/section/div/div/div[2]/div/div[1]/button\"\n",
    "    XPATH_COMMENTS_CLASS = \"span[class='ll4r2nl dir dir-ltr']\"\n",
    "    XPATH_COMMENTS_ON_SITE = \"/html/body/div[5]/div/div/div[1]/div/div[2]/div/div/div/div[1]/main/div/div[1]/div[4]/div/div/div/div[2]/section/div[3]/div/div/*\"\n",
    "\n",
    "    try:\n",
    "        WebDriverWait(driver, 3).until(EC.visibility_of_element_located(\n",
    "            (By.XPATH, \"/html/body/div[5]/div/div/div[1]/div/div[2]/div/div/div/div[1]/main/div/div[1]/div[4]/div/div/div/div[2]\")))\n",
    "    except:\n",
    "        print(\"could not load comments title\")\n",
    "        return comments\n",
    "\n",
    "    try:\n",
    "        if driver.find_elements(By.XPATH, XPATH_COMMENTS_BTN):\n",
    "            driver.find_element(By.XPATH, XPATH_COMMENTS_BTN).click()\n",
    "            resu = driver.find_elements(By.CSS_SELECTOR, XPATH_COMMENTS_CLASS)\n",
    "            for comm in resu:\n",
    "                if comm.text:\n",
    "                    comments.append(comm.text)\n",
    "            driver.find_element(By.XPATH, XPATH_COMMENTS_BTN_CLOSE).click()\n",
    "\n",
    "        elif not driver.find_elements(By.XPATH, XPATH_COMMENTS_BTN) and len(driver.find_elements(By.XPATH, XPATH_COMMENTS_ON_SITE)) > 0:\n",
    "            comments_on_page = driver.find_elements(\n",
    "                By.XPATH, XPATH_COMMENTS_ON_SITE)\n",
    "            for comm_on in comments_on_page:\n",
    "                if comm_on.text:\n",
    "                    temp_comm_on = comm_on.text.split(\"\\n\", maxsplit=2)[2:]\n",
    "                    comments.append(temp_comm_on[0])\n",
    "\n",
    "        else:\n",
    "            return comments\n",
    "    \n",
    "    except:\n",
    "        print(\"could not process comments\")\n",
    "        return comments\n",
    "\n",
    "    return comments\n"
   ]
  },
  {
   "cell_type": "code",
   "execution_count": 232,
   "metadata": {},
   "outputs": [],
   "source": [
    "# helper func to scrape coordinates\n",
    "def scrape_coordinates():\n",
    "    lat = 0.0\n",
    "    lng = 0.0\n",
    "\n",
    "    try:\n",
    "        element_to_be_present_co = WebDriverWait(driver, 3).until(EC.visibility_of_element_located((By.XPATH, \"/html/body/div[5]/div/div/div[1]/div/div[2]/div/div/div/div[1]/main/div/div[1]/div[5]/div/div/div/div[2]/section/div[1]/div/h2\")))\n",
    "        driver.execute_script(\"arguments[0].scrollIntoView();\", element_to_be_present_co)\n",
    "\n",
    "        time.sleep(0.5)\n",
    "\n",
    "        coordinates_elem = WebDriverWait(driver, 3).until(EC.visibility_of_element_located((By.XPATH, \"//*[contains(@href, 'https://maps.google.com/maps?ll=')]\")))\n",
    "        coordinates_href = coordinates_elem.get_attribute('href')\n",
    "\n",
    "        parsed_href = urlparse.urlparse(coordinates_href)\n",
    "        coordinates = parse_qs(parsed_href.query)['ll'][0].split(',')\n",
    "        lat = float(coordinates[0])\n",
    "        lng = float(coordinates[1])\n",
    "    except:\n",
    "        print(\"Could not process coordinates\")\n",
    "\n",
    "    return lat, lng\n"
   ]
  },
  {
   "cell_type": "code",
   "execution_count": 233,
   "metadata": {},
   "outputs": [],
   "source": [
    "# helper func to scrape ameneties\n",
    "def scrape_ameneties():\n",
    "\n",
    "    ameneties_list = []\n",
    "\n",
    "    try:\n",
    "        SHOW_AMENETIES_CLASS = \"button[class='l1j9v1wn b65jmrv v7aged4 dir dir-ltr']\"\n",
    "        driver.find_element(By.CSS_SELECTOR, SHOW_AMENETIES_CLASS).click()\n",
    "\n",
    "        element_present_ame = EC.presence_of_element_located(\n",
    "            (By.XPATH, \"/html/body/div[9]/section/div/div/div[2]/div/div[3]\"))\n",
    "        WebDriverWait(driver, 2).until(element_present_ame)\n",
    "\n",
    "        soup = BeautifulSoup(driver.page_source, features='html.parser')\n",
    "        ameneties = soup.find_all(\"div\", {\"class\": \"t1dx2edb dir dir-ltr\"})\n",
    "\n",
    "        for a in ameneties:\n",
    "            if \"</span>\" not in a.decode_contents():\n",
    "                ameneties_list.append(a.decode_contents())\n",
    "\n",
    "    except:\n",
    "        print(\"Could not process ameneties\")\n",
    "\n",
    "    try:\n",
    "        driver.find_element(\n",
    "            By.XPATH, \"/html/body/div[9]/section/div/div/div[2]/div/div[1]/button\").click()\n",
    "    except:\n",
    "        print(\"Could not close ameneties window\")\n",
    "\n",
    "    return ameneties_list\n"
   ]
  },
  {
   "cell_type": "code",
   "execution_count": 234,
   "metadata": {},
   "outputs": [],
   "source": [
    "# scrapping logic for detail page apartment\n",
    "def scrape_apartment(nr_of_flat):\n",
    "\n",
    "    flat = None\n",
    "\n",
    "    XPATH_cleanliness = \"/html/body/div[5]/div/div/div[1]/div/div[2]/div/div/div/div[1]/main/div/div[1]/div[4]/div/div/div/div[2]/section/div[2]/div/div/div[1]/div/div/div[2]/span\"\n",
    "    XPATH_communication = \"/html/body/div[5]/div/div/div[1]/div/div[2]/div/div/div/div[1]/main/div/div[1]/div[4]/div/div/div/div[2]/section/div[2]/div/div/div[3]/div/div/div[2]/span\"\n",
    "    XPATH_checkin = \"/html/body/div[5]/div/div/div[1]/div/div[2]/div/div/div/div[1]/main/div/div[1]/div[4]/div/div/div/div[2]/section/div[2]/div/div/div[5]/div/div/div[2]/span\"\n",
    "    XPATH_valueformoney = \"/html/body/div[5]/div/div/div[1]/div/div[2]/div/div/div/div[1]/main/div/div[1]/div[4]/div/div/div/div[2]/section/div[2]/div/div/div[6]/div/div/div[2]/span\"\n",
    "    XPATH_location = \"/html/body/div[5]/div/div/div[1]/div/div[2]/div/div/div/div[1]/main/div/div[1]/div[4]/div/div/div/div[2]/section/div[2]/div/div/div[4]/div/div/div[2]/span\"\n",
    "    XPATH_data_accuracy = \"/html/body/div[5]/div/div/div[1]/div/div[2]/div/div/div/div[1]/main/div/div[1]/div[4]/div/div/div/div[2]/section/div[2]/div/div/div[2]/div/div/div[2]/span\"\n",
    "    rating_cleanliness = \"\"\n",
    "    rating_communication = \"\"\n",
    "    rating_checkin = \"\"\n",
    "    rating_valueformoney = \"\"\n",
    "    rating_location = \"\"\n",
    "    rating_data_accuracy = \"\"\n",
    "\n",
    "    XPATH_APARETMENT_NAME = \"/html/body/div[5]/div/div/div[1]/div/div[2]/div/div/div/div[1]/main/div/div[1]/div[1]/div[1]/div/div/div/div/section/div[1]/span/h1\"\n",
    "    apartment_name = \"\"\n",
    "\n",
    "    XPATH_PRICE = \"/html/body/div[5]/div/div/div[1]/div/div[2]/div/div/div/div[1]/main/div/div[1]/div[3]/div/div[2]/div/div/div[1]/div/div/div/div/div/div/div[1]/div[1]/div[1]/div/span/div/span[1]\"\n",
    "    apartment_price = \"\"\n",
    "    XPATH_PRICE_REDUCED = \"/html/body/div[5]/div/div/div[1]/div/div[2]/div/div/div/div[1]/main/div/div[1]/div[3]/div/div[2]/div/div/div[1]/div/div/div/div/div/div/div[1]/div[1]/div[1]/div/span/div/span[2]\"\n",
    "    apartment_price_reduced = \"\"\n",
    "\n",
    "    XPATH_PLACE = \"/html/body/div[5]/div/div/div[1]/div/div[2]/div/div/div/div[1]/main/div/div[1]/div[1]/div[1]/div/div/div/div/section/div[2]/div[1]/span[3]/button/span\"\n",
    "    XPATH_PLACE_2 = \"/html/body/div[5]/div/div/div[1]/div/div[2]/div/div/div/div[1]/main/div/div[1]/div[1]/div[1]/div/div/div/div/section/div[2]/div[1]/span[5]/button/span\"\n",
    "    apartment_place = \"\"\n",
    "\n",
    "    XPATH_RATING = \"/html/body/div[5]/div/div/div[1]/div/div[2]/div/div/div/div[1]/main/div/div[1]/div[1]/div[1]/div/div/div/div/section/div[2]/div[1]/span[1]/span[2]\"\n",
    "    rating = \"\"\n",
    "\n",
    "    XPATH_GUESTS = \"/html/body/div[5]/div/div/div[1]/div/div[2]/div/div/div/div[1]/main/div/div[1]/div[3]/div/div[1]/div/div[1]/div/div/section/div/div/div/div[1]/ol/li[1]/span[1]\"\n",
    "    guests = \"\"\n",
    "    XPATH_BEDROOMS = \"/html/body/div[5]/div/div/div[1]/div/div[2]/div/div/div/div[1]/main/div/div[1]/div[3]/div/div[1]/div/div[1]/div/div/section/div/div/div/div[1]/ol/li[2]/span[2]\"\n",
    "    bedrooms = \"\"\n",
    "    XPATH_BEDS = \"/html/body/div[5]/div/div/div[1]/div/div[2]/div/div/div/div[1]/main/div/div[1]/div[3]/div/div[1]/div/div[1]/div/div/section/div/div/div/div[1]/ol/li[3]/span[2]\"\n",
    "    beds = \"\"\n",
    "    XPATH_BATHROOMS = \"/html/body/div[5]/div/div/div[1]/div/div[2]/div/div/div/div[1]/main/div/div[1]/div[3]/div/div[1]/div/div[1]/div/div/section/div/div/div/div[1]/ol/li[4]/span[2]\"\n",
    "    bathrooms = \"\"\n",
    "\n",
    "    XPATH_NR_OF_RATINGS = \"/html/body/div[5]/div/div/div[1]/div/div[2]/div/div/div/div[1]/main/div/div[1]/div[1]/div[1]/div/div/div/div/section/div[2]/div[1]/span[1]/span[3]/button\"\n",
    "    nr_of_ratings = \"\"\n",
    "\n",
    "    # check if page title is present\n",
    "    try:\n",
    "        element_present = EC.presence_of_element_located(\n",
    "            (By.XPATH, \"/html/body/div[5]/div/div/div[1]/div/div[2]/div/div/div/div[1]/main/div/div[1]/div[1]/div[1]/div/div/div/div/section/div[1]/span/h1\"))\n",
    "        WebDriverWait(driver, 6).until(element_present)\n",
    "    except TimeoutException:\n",
    "        print(\"Timed out waiting for page to load\")\n",
    "        return\n",
    "\n",
    "    try:\n",
    "        if driver.find_elements(By.XPATH, XPATH_PLACE):\n",
    "            apartment_place = WebDriverWait(driver, 3).until(\n",
    "                EC.visibility_of_element_located((By.XPATH, XPATH_PLACE))).text\n",
    "            if \"Zürich\" not in apartment_place:\n",
    "                return flat\n",
    "        else:\n",
    "            apartment_place = WebDriverWait(driver, 3).until(\n",
    "                EC.visibility_of_element_located((By.XPATH, XPATH_PLACE_2))).text\n",
    "            if \"Zürich\" not in apartment_place:\n",
    "                return flat\n",
    "    except:\n",
    "        pass\n",
    "\n",
    "    try:\n",
    "        apartment_name = WebDriverWait(driver, 3).until(\n",
    "            EC.visibility_of_element_located((By.XPATH, XPATH_APARETMENT_NAME))).text\n",
    "        nr_of_ratings = WebDriverWait(driver, 3).until(\n",
    "            EC.visibility_of_element_located((By.XPATH, XPATH_NR_OF_RATINGS))).text\n",
    "    except:\n",
    "        pass\n",
    "\n",
    "    try:\n",
    "        apartment_price = WebDriverWait(driver, 3).until(\n",
    "            EC.visibility_of_element_located((By.XPATH, XPATH_PRICE))).text\n",
    "\n",
    "        if driver.find_elements(By.XPATH, XPATH_PRICE_REDUCED):\n",
    "            apartment_price_reduced = driver.find_element(\n",
    "                By.XPATH, XPATH_PRICE_REDUCED).text\n",
    "            if \"CHF\" not in apartment_price_reduced:\n",
    "                apartment_price_reduced = \"\"\n",
    "    except:\n",
    "        pass\n",
    "\n",
    "    try:\n",
    "        rating = driver.find_element(By.XPATH, XPATH_RATING).text\n",
    "        rating_checkin = driver.find_element(By.XPATH, XPATH_checkin).text\n",
    "        rating_cleanliness = driver.find_element(\n",
    "            By.XPATH, XPATH_cleanliness).text\n",
    "        rating_communication = driver.find_element(\n",
    "            By.XPATH, XPATH_communication).text\n",
    "        rating_data_accuracy = driver.find_element(\n",
    "            By.XPATH, XPATH_data_accuracy).text\n",
    "        rating_location = driver.find_element(By.XPATH, XPATH_location).text\n",
    "        rating_valueformoney = driver.find_element(\n",
    "            By.XPATH, XPATH_valueformoney).text\n",
    "    except:\n",
    "        pass\n",
    "\n",
    "    try:\n",
    "        guests = driver.find_element(By.XPATH, XPATH_GUESTS).text\n",
    "        bedrooms = driver.find_element(By.XPATH, XPATH_BEDROOMS).text\n",
    "        beds = driver.find_element(By.XPATH, XPATH_BEDS).text\n",
    "        bathrooms = driver.find_element(By.XPATH, XPATH_BATHROOMS).text\n",
    "    except:\n",
    "        pass\n",
    "\n",
    "    apartment_ameneties = scrape_ameneties()\n",
    "    comments = scrape_comments()\n",
    "    lat, lng = scrape_coordinates()\n",
    "\n",
    "    flat = {'name': [apartment_name], 'price': [apartment_price], 'price_reduced': [apartment_price_reduced], 'place': [apartment_place], 'guests': [guests], 'bedrooms': [bedrooms], 'beds': [beds], 'bathrooms': [bathrooms], 'lat': [lat], 'lng': [lng], 'nr_of_ratings': [nr_of_ratings], 'rating_overall': [rating], 'rating_valueformoney': [rating_valueformoney],\n",
    "            'rating_location': [rating_location], 'rating_checkin': [rating_checkin], 'rating_communication': [rating_communication], 'rating_cleanliness': [rating_cleanliness], 'rating_data_accuracy': [rating_data_accuracy], 'comments': [comments], 'list_ameneties': [apartment_ameneties]}\n",
    "\n",
    "    print(nr_of_flat, flat)\n",
    "\n",
    "    return flat\n"
   ]
  },
  {
   "cell_type": "code",
   "execution_count": 235,
   "metadata": {},
   "outputs": [],
   "source": [
    "def close_tab():\n",
    "    try:\n",
    "        # close tab\n",
    "        parent = driver.window_handles[0]\n",
    "        chld = driver.window_handles[1]\n",
    "        driver.switch_to.window(chld)\n",
    "        driver.close()\n",
    "        time.sleep(0.5)\n",
    "        parent = driver.window_handles[0]\n",
    "        driver.switch_to.window(parent)\n",
    "    except:\n",
    "        print(\"could not close tab\")"
   ]
  },
  {
   "cell_type": "code",
   "execution_count": 236,
   "metadata": {},
   "outputs": [],
   "source": [
    "# helper func to open each aparement in sepeerate tab\n",
    "def handle_apartments_tabs(nr_apartments):\n",
    "    # Click on each apartment which is opened in seperate tab\n",
    "    apartments = pd.DataFrame()\n",
    "    for nr in range(1, nr_apartments):\n",
    "        xpath = f\"/html/body/div[5]/div/div/div[1]/div/div[2]/div/div/div/div/div/div[2]/main/div[2]/div[2]/div/div/div/div/div/div[{nr}]\"\n",
    "        driver.find_element(By.XPATH, xpath).click()\n",
    "\n",
    "        try:\n",
    "            # switch tab\n",
    "            #get old tab\n",
    "            parent = driver.window_handles[0]\n",
    "            #get new tab\n",
    "            chld = driver.window_handles[1]\n",
    "            #switch to new tab\n",
    "            driver.switch_to.window(chld)\n",
    "        except:\n",
    "            print(\"could not swtich tab\")\n",
    "\n",
    "        if nr == 1:\n",
    "            # first time tap is opened selenium needs some time to get running properly...\n",
    "            time.sleep(3)\n",
    "            try:\n",
    "                # close translate banner\n",
    "                transl = WebDriverWait(driver, 3).until(EC.element_to_be_clickable((By.XPATH, \"/html/body/div[9]/section/div/div/div[2]/div/div[1]/button\"))) \n",
    "                transl.click()\n",
    "            except:\n",
    "                pass\n",
    "        \n",
    "        apartment_scraped = scrape_apartment(nr)\n",
    "\n",
    "        if apartment_scraped == None:\n",
    "            close_tab()\n",
    "            continue\n",
    "\n",
    "        apartments = pd.concat([apartments, pd.DataFrame(apartment_scraped)])\n",
    "        close_tab()\n",
    "    \n",
    "    return apartments\n",
    "    "
   ]
  },
  {
   "cell_type": "code",
   "execution_count": 222,
   "metadata": {},
   "outputs": [
    {
     "data": {
      "text/plain": [
       "4"
      ]
     },
     "execution_count": 222,
     "metadata": {},
     "output_type": "execute_result"
    }
   ],
   "source": [
    "# get nr of pages with aparements\n",
    "nr_pages = len(driver.find_elements(By.XPATH, \"/html/body/div[5]/div/div/div[1]/div/div[2]/div/div/div/div/div/div[2]/main/div[2]/div[3]/div/div/nav/div/*\"))\n",
    "# subtract forward backwards buttons\n",
    "nr_pages = nr_pages - 2\n",
    "nr_pages"
   ]
  },
  {
   "cell_type": "code",
   "execution_count": 239,
   "metadata": {},
   "outputs": [
    {
     "ename": "InvalidSessionIdException",
     "evalue": "Message: invalid session id\nStacktrace:\n0   chromedriver                        0x00000001051f2d3c chromedriver + 4222268\n1   chromedriver                        0x00000001051798e8 chromedriver + 3725544\n2   chromedriver                        0x0000000104e2fc28 chromedriver + 277544\n3   chromedriver                        0x0000000104e5d148 chromedriver + 463176\n4   chromedriver                        0x0000000104e87af8 chromedriver + 637688\n5   chromedriver                        0x0000000104e86f60 chromedriver + 634720\n6   chromedriver                        0x0000000104e01078 chromedriver + 86136\n7   chromedriver                        0x00000001051c3788 chromedriver + 4028296\n8   chromedriver                        0x00000001051c7c1c chromedriver + 4045852\n9   chromedriver                        0x00000001051cdc98 chromedriver + 4070552\n10  chromedriver                        0x00000001051c88d8 chromedriver + 4049112\n11  chromedriver                        0x000000010519fd84 chromedriver + 3882372\n12  chromedriver                        0x0000000104dff908 chromedriver + 80136\n13  dyld                                0x00000001860afe50 start + 2544\n",
     "output_type": "error",
     "traceback": [
      "\u001b[0;31m---------------------------------------------------------------------------\u001b[0m",
      "\u001b[0;31mInvalidSessionIdException\u001b[0m                 Traceback (most recent call last)",
      "Cell \u001b[0;32mIn[239], line 2\u001b[0m\n\u001b[1;32m      1\u001b[0m \u001b[39m# get entries of apparements on page\u001b[39;00m\n\u001b[0;32m----> 2\u001b[0m nr_apartments \u001b[39m=\u001b[39m \u001b[39mlen\u001b[39m(driver\u001b[39m.\u001b[39;49mfind_elements(By\u001b[39m.\u001b[39;49mXPATH, \u001b[39m\"\u001b[39;49m\u001b[39m/html/body/div[5]/div/div/div[1]/div/div[2]/div/div/div/div/div/div[2]/main/div[2]/div[2]/div/div/div/div/div/div\u001b[39;49m\u001b[39m\"\u001b[39;49m))\n\u001b[1;32m      3\u001b[0m nr_apartments\n",
      "File \u001b[0;32m~/Nextcloud/cloud_atrip/Dokumente/Repos/applied-data-science/ads-env/lib/python3.9/site-packages/selenium/webdriver/remote/webdriver.py:860\u001b[0m, in \u001b[0;36mWebDriver.find_elements\u001b[0;34m(self, by, value)\u001b[0m\n\u001b[1;32m    856\u001b[0m     value \u001b[39m=\u001b[39m \u001b[39mf\u001b[39m\u001b[39m'\u001b[39m\u001b[39m[name=\u001b[39m\u001b[39m\"\u001b[39m\u001b[39m{\u001b[39;00mvalue\u001b[39m}\u001b[39;00m\u001b[39m\"\u001b[39m\u001b[39m]\u001b[39m\u001b[39m'\u001b[39m\n\u001b[1;32m    858\u001b[0m \u001b[39m# Return empty list if driver returns null\u001b[39;00m\n\u001b[1;32m    859\u001b[0m \u001b[39m# See https://github.com/SeleniumHQ/selenium/issues/4555\u001b[39;00m\n\u001b[0;32m--> 860\u001b[0m \u001b[39mreturn\u001b[39;00m \u001b[39mself\u001b[39;49m\u001b[39m.\u001b[39;49mexecute(Command\u001b[39m.\u001b[39;49mFIND_ELEMENTS, {\u001b[39m\"\u001b[39;49m\u001b[39musing\u001b[39;49m\u001b[39m\"\u001b[39;49m: by, \u001b[39m\"\u001b[39;49m\u001b[39mvalue\u001b[39;49m\u001b[39m\"\u001b[39;49m: value})[\u001b[39m\"\u001b[39m\u001b[39mvalue\u001b[39m\u001b[39m\"\u001b[39m] \u001b[39mor\u001b[39;00m []\n",
      "File \u001b[0;32m~/Nextcloud/cloud_atrip/Dokumente/Repos/applied-data-science/ads-env/lib/python3.9/site-packages/selenium/webdriver/remote/webdriver.py:440\u001b[0m, in \u001b[0;36mWebDriver.execute\u001b[0;34m(self, driver_command, params)\u001b[0m\n\u001b[1;32m    438\u001b[0m response \u001b[39m=\u001b[39m \u001b[39mself\u001b[39m\u001b[39m.\u001b[39mcommand_executor\u001b[39m.\u001b[39mexecute(driver_command, params)\n\u001b[1;32m    439\u001b[0m \u001b[39mif\u001b[39;00m response:\n\u001b[0;32m--> 440\u001b[0m     \u001b[39mself\u001b[39;49m\u001b[39m.\u001b[39;49merror_handler\u001b[39m.\u001b[39;49mcheck_response(response)\n\u001b[1;32m    441\u001b[0m     response[\u001b[39m\"\u001b[39m\u001b[39mvalue\u001b[39m\u001b[39m\"\u001b[39m] \u001b[39m=\u001b[39m \u001b[39mself\u001b[39m\u001b[39m.\u001b[39m_unwrap_value(response\u001b[39m.\u001b[39mget(\u001b[39m\"\u001b[39m\u001b[39mvalue\u001b[39m\u001b[39m\"\u001b[39m, \u001b[39mNone\u001b[39;00m))\n\u001b[1;32m    442\u001b[0m     \u001b[39mreturn\u001b[39;00m response\n",
      "File \u001b[0;32m~/Nextcloud/cloud_atrip/Dokumente/Repos/applied-data-science/ads-env/lib/python3.9/site-packages/selenium/webdriver/remote/errorhandler.py:245\u001b[0m, in \u001b[0;36mErrorHandler.check_response\u001b[0;34m(self, response)\u001b[0m\n\u001b[1;32m    243\u001b[0m         alert_text \u001b[39m=\u001b[39m value[\u001b[39m\"\u001b[39m\u001b[39malert\u001b[39m\u001b[39m\"\u001b[39m]\u001b[39m.\u001b[39mget(\u001b[39m\"\u001b[39m\u001b[39mtext\u001b[39m\u001b[39m\"\u001b[39m)\n\u001b[1;32m    244\u001b[0m     \u001b[39mraise\u001b[39;00m exception_class(message, screen, stacktrace, alert_text)  \u001b[39m# type: ignore[call-arg]  # mypy is not smart enough here\u001b[39;00m\n\u001b[0;32m--> 245\u001b[0m \u001b[39mraise\u001b[39;00m exception_class(message, screen, stacktrace)\n",
      "\u001b[0;31mInvalidSessionIdException\u001b[0m: Message: invalid session id\nStacktrace:\n0   chromedriver                        0x00000001051f2d3c chromedriver + 4222268\n1   chromedriver                        0x00000001051798e8 chromedriver + 3725544\n2   chromedriver                        0x0000000104e2fc28 chromedriver + 277544\n3   chromedriver                        0x0000000104e5d148 chromedriver + 463176\n4   chromedriver                        0x0000000104e87af8 chromedriver + 637688\n5   chromedriver                        0x0000000104e86f60 chromedriver + 634720\n6   chromedriver                        0x0000000104e01078 chromedriver + 86136\n7   chromedriver                        0x00000001051c3788 chromedriver + 4028296\n8   chromedriver                        0x00000001051c7c1c chromedriver + 4045852\n9   chromedriver                        0x00000001051cdc98 chromedriver + 4070552\n10  chromedriver                        0x00000001051c88d8 chromedriver + 4049112\n11  chromedriver                        0x000000010519fd84 chromedriver + 3882372\n12  chromedriver                        0x0000000104dff908 chromedriver + 80136\n13  dyld                                0x00000001860afe50 start + 2544\n"
     ]
    }
   ],
   "source": [
    "# get entries of apparements on page\n",
    "nr_apartments = len(driver.find_elements(By.XPATH, \"/html/body/div[5]/div/div/div[1]/div/div[2]/div/div/div/div/div/div[2]/main/div[2]/div[2]/div/div/div/div/div/div\"))\n",
    "nr_apartments"
   ]
  },
  {
   "attachments": {},
   "cell_type": "markdown",
   "metadata": {},
   "source": [
    "# Run scrape logic"
   ]
  },
  {
   "cell_type": "code",
   "execution_count": null,
   "metadata": {},
   "outputs": [],
   "source": [
    "# all entries\n",
    "for nr_p in range(1, nr_pages):\n",
    "    handle_apartments_tabs(nr_apartments + 1)\n",
    "    if nr_p == 1:\n",
    "        driver.find_element(By.XPATH, \"/html/body/div[5]/div/div/div[1]/div/div[2]/div/div/div/div/div/div[2]/main/div[2]/div[3]/div/div/nav/div/a[5]\").click()\n",
    "    else:\n",
    "        driver.find_element(By.XPATH, \"/html/body/div[5]/div/div/div[1]/div/div[2]/div/div/div/div/div/div[2]/main/div[2]/div[3]/div/div/nav/div/a[6]\").click()"
   ]
  },
  {
   "cell_type": "code",
   "execution_count": null,
   "metadata": {},
   "outputs": [],
   "source": [
    "# limited entries for tests \n",
    "for nr_p in range(1, 3):\n",
    "    handle_apartments_tabs(5)\n",
    "    if nr_p == 1:\n",
    "        driver.find_element(By.XPATH, \"/html/body/div[5]/div/div/div[1]/div/div[2]/div/div/div/div/div/div[2]/main/div[2]/div[3]/div/div/nav/div/a[5]\").click()\n",
    "    else:\n",
    "        driver.find_element(By.XPATH, \"/html/body/div[5]/div/div/div[1]/div/div[2]/div/div/div/div/div/div[2]/main/div[2]/div[3]/div/div/nav/div/a[6]\").click()"
   ]
  },
  {
   "cell_type": "code",
   "execution_count": 238,
   "metadata": {},
   "outputs": [],
   "source": [
    "# close all tabs and window\n",
    "for handles in driver.window_handles:\n",
    "    parent = handles\n",
    "    driver.switch_to.window(parent)\n",
    "    driver.close()"
   ]
  },
  {
   "cell_type": "markdown",
   "metadata": {},
   "source": [
    "# Run scrape logic in parallel"
   ]
  },
  {
   "cell_type": "markdown",
   "metadata": {},
   "source": []
  }
 ],
 "metadata": {
  "kernelspec": {
   "display_name": "ads-env",
   "language": "python",
   "name": "python3"
  },
  "language_info": {
   "codemirror_mode": {
    "name": "ipython",
    "version": 3
   },
   "file_extension": ".py",
   "mimetype": "text/x-python",
   "name": "python",
   "nbconvert_exporter": "python",
   "pygments_lexer": "ipython3",
   "version": "3.9.6"
  },
  "orig_nbformat": 4
 },
 "nbformat": 4,
 "nbformat_minor": 2
}
