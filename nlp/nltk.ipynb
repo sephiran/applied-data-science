{
 "cells": [
  {
   "attachments": {},
   "cell_type": "markdown",
   "metadata": {},
   "source": [
    "# Preprocess comment text"
   ]
  },
  {
   "cell_type": "code",
   "execution_count": 25,
   "metadata": {},
   "outputs": [],
   "source": [
    "import pandas as pd\n",
    "import nltk\n",
    "from nltk.corpus import stopwords\n",
    "from nltk.tokenize import word_tokenize\n",
    "from nltk.stem import WordNetLemmatizer\n",
    "import re"
   ]
  },
  {
   "cell_type": "code",
   "execution_count": 26,
   "metadata": {},
   "outputs": [
    {
     "name": "stderr",
     "output_type": "stream",
     "text": [
      "[nltk_data] Downloading package punkt to\n",
      "[nltk_data]     /Users/adrianpeter/nltk_data...\n",
      "[nltk_data]   Package punkt is already up-to-date!\n",
      "[nltk_data] Downloading package wordnet to\n",
      "[nltk_data]     /Users/adrianpeter/nltk_data...\n",
      "[nltk_data]   Package wordnet is already up-to-date!\n",
      "[nltk_data] Downloading package stopwords to\n",
      "[nltk_data]     /Users/adrianpeter/nltk_data...\n",
      "[nltk_data]   Package stopwords is already up-to-date!\n"
     ]
    },
    {
     "data": {
      "text/plain": [
       "True"
      ]
     },
     "execution_count": 26,
     "metadata": {},
     "output_type": "execute_result"
    }
   ],
   "source": [
    "# load NLTK resources\n",
    "nltk.download('punkt')\n",
    "nltk.download('wordnet')\n",
    "nltk.download('stopwords')"
   ]
  },
  {
   "cell_type": "code",
   "execution_count": 27,
   "metadata": {},
   "outputs": [],
   "source": [
    "# function to prepare text for nlp\n",
    "def preprocess_text(text):\n",
    "    # remove special characters and numbers\n",
    "    text = re.sub(r'[^\\w\\säöüÄÖÜß]', '', text)\n",
    "\n",
    "    # tokenize words\n",
    "    words = word_tokenize(text)\n",
    "\n",
    "    # remove stop words\n",
    "    stop_words = set(stopwords.words(\"german\"))\n",
    "    words = [word.lower() for word in words if word.lower() not in stop_words]\n",
    "\n",
    "    # Lemmatize words\n",
    "    lemmatizer = WordNetLemmatizer()\n",
    "    words = [lemmatizer.lemmatize(word.lower()) for word in words]\n",
    "\n",
    "    # return processed text\n",
    "    return \" \".join(words)"
   ]
  },
  {
   "cell_type": "code",
   "execution_count": 28,
   "metadata": {},
   "outputs": [
    {
     "name": "stdout",
     "output_type": "stream",
     "text": [
      "                                            comments   \n",
      "0  Zum Übernachten optimal für eine Person.\\nFür ...  \\\n",
      "1  Super Gastgeber!\\nStudio für das Geld absolut ...   \n",
      "2  Gut gelegene und günstige Unterkunft mitten in...   \n",
      "3  Für Kurzübernachtungen gut, sauber sowohl Zimm...   \n",
      "4  Freundliche Hausbewohner und ich konnte auf de...   \n",
      "\n",
      "                                preprocessed_comment  \n",
      "0  übernachten optimal person längere aufenthalte...  \n",
      "1  super gastgeber studio geld absolut empfehlen ...  \n",
      "2  gut gelegene günstige unterkunft mitten oerlik...  \n",
      "3  kurzübernachtungen gut sauber sowohl zimmer ba...  \n",
      "4  freundliche hausbewohner konnte innenhof koste...  \n"
     ]
    }
   ],
   "source": [
    "df = pd.read_csv('../data/raw_comments.csv',sep=';')\n",
    "df[\"preprocessed_comment\"] = df[\"comments\"].apply(preprocess_text)\n",
    "print(df[[\"comments\", \"preprocessed_comment\"]].head())"
   ]
  },
  {
   "cell_type": "code",
   "execution_count": 29,
   "metadata": {},
   "outputs": [],
   "source": [
    "#save new df to csv\n",
    "df.to_csv('../data/processed_comments.csv',sep=';')"
   ]
  }
 ],
 "metadata": {
  "kernelspec": {
   "display_name": "adsenv",
   "language": "python",
   "name": "python3"
  },
  "language_info": {
   "codemirror_mode": {
    "name": "ipython",
    "version": 3
   },
   "file_extension": ".py",
   "mimetype": "text/x-python",
   "name": "python",
   "nbconvert_exporter": "python",
   "pygments_lexer": "ipython3",
   "version": "3.10.10"
  },
  "orig_nbformat": 4
 },
 "nbformat": 4,
 "nbformat_minor": 2
}
