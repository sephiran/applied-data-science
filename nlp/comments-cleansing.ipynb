{
 "cells": [
  {
   "attachments": {},
   "cell_type": "markdown",
   "metadata": {},
   "source": [
    "# Clean Comments"
   ]
  },
  {
   "cell_type": "code",
   "execution_count": 8,
   "metadata": {},
   "outputs": [],
   "source": [
    "import pandas as pd\n",
    "import spacy\n",
    "import spacy_fastlang\n",
    "from deep_translator import GoogleTranslator\n",
    "import ast"
   ]
  },
  {
   "cell_type": "code",
   "execution_count": 9,
   "metadata": {},
   "outputs": [],
   "source": [
    "df = pd.read_csv('../data/airbnb_rental_prices_combined.csv', sep=';', index_col=\"Unnamed: 0\")"
   ]
  },
  {
   "cell_type": "code",
   "execution_count": 10,
   "metadata": {},
   "outputs": [
    {
     "data": {
      "text/html": [
       "<div>\n",
       "<style scoped>\n",
       "    .dataframe tbody tr th:only-of-type {\n",
       "        vertical-align: middle;\n",
       "    }\n",
       "\n",
       "    .dataframe tbody tr th {\n",
       "        vertical-align: top;\n",
       "    }\n",
       "\n",
       "    .dataframe thead th {\n",
       "        text-align: right;\n",
       "    }\n",
       "</style>\n",
       "<table border=\"1\" class=\"dataframe\">\n",
       "  <thead>\n",
       "    <tr style=\"text-align: right;\">\n",
       "      <th></th>\n",
       "      <th>rating_overall</th>\n",
       "      <th>comments</th>\n",
       "    </tr>\n",
       "  </thead>\n",
       "  <tbody>\n",
       "    <tr>\n",
       "      <th>0</th>\n",
       "      <td>4.28</td>\n",
       "      <td>['Zum Übernachten optimal für eine Person.\\nFü...</td>\n",
       "    </tr>\n",
       "    <tr>\n",
       "      <th>1</th>\n",
       "      <td>0.00</td>\n",
       "      <td>[]</td>\n",
       "    </tr>\n",
       "    <tr>\n",
       "      <th>6</th>\n",
       "      <td>4.67</td>\n",
       "      <td>['The house is perfectly connected to the cent...</td>\n",
       "    </tr>\n",
       "    <tr>\n",
       "      <th>8</th>\n",
       "      <td>0.00</td>\n",
       "      <td>[]</td>\n",
       "    </tr>\n",
       "    <tr>\n",
       "      <th>11</th>\n",
       "      <td>0.00</td>\n",
       "      <td>[]</td>\n",
       "    </tr>\n",
       "  </tbody>\n",
       "</table>\n",
       "</div>"
      ],
      "text/plain": [
       "    rating_overall                                           comments\n",
       "0             4.28  ['Zum Übernachten optimal für eine Person.\\nFü...\n",
       "1             0.00                                                 []\n",
       "6             4.67  ['The house is perfectly connected to the cent...\n",
       "8             0.00                                                 []\n",
       "11            0.00                                                 []"
      ]
     },
     "execution_count": 10,
     "metadata": {},
     "output_type": "execute_result"
    }
   ],
   "source": [
    "#only use rating_overall & comments\n",
    "df = df[['rating_overall', 'comments']]\n",
    "df.head()"
   ]
  },
  {
   "cell_type": "code",
   "execution_count": 11,
   "metadata": {},
   "outputs": [
    {
     "name": "stdout",
     "output_type": "stream",
     "text": [
      "<class 'pandas.core.frame.DataFrame'>\n",
      "Index: 701 entries, 0 to 959\n",
      "Data columns (total 2 columns):\n",
      " #   Column          Non-Null Count  Dtype  \n",
      "---  ------          --------------  -----  \n",
      " 0   rating_overall  701 non-null    float64\n",
      " 1   comments        701 non-null    object \n",
      "dtypes: float64(1), object(1)\n",
      "memory usage: 16.4+ KB\n"
     ]
    }
   ],
   "source": [
    "df.info()"
   ]
  },
  {
   "cell_type": "code",
   "execution_count": 12,
   "metadata": {},
   "outputs": [
    {
     "data": {
      "text/plain": [
       "(701, 2)"
      ]
     },
     "execution_count": 12,
     "metadata": {},
     "output_type": "execute_result"
    }
   ],
   "source": [
    "df.shape"
   ]
  },
  {
   "cell_type": "code",
   "execution_count": 13,
   "metadata": {},
   "outputs": [
    {
     "data": {
      "text/plain": [
       "(563, 2)"
      ]
     },
     "execution_count": 13,
     "metadata": {},
     "output_type": "execute_result"
    }
   ],
   "source": [
    "df = df[df.astype(str)[\"comments\"] != '[]']\n",
    "df.shape"
   ]
  },
  {
   "cell_type": "code",
   "execution_count": 14,
   "metadata": {},
   "outputs": [
    {
     "name": "stdout",
     "output_type": "stream",
     "text": [
      "Collecting en-core-web-sm==3.5.0\n",
      "  Downloading https://github.com/explosion/spacy-models/releases/download/en_core_web_sm-3.5.0/en_core_web_sm-3.5.0-py3-none-any.whl (12.8 MB)\n",
      "\u001b[2K     \u001b[90m━━━━━━━━━━━━━━━━━━━━━━━━━━━━━━━━━━━━━━━━\u001b[0m \u001b[32m12.8/12.8 MB\u001b[0m \u001b[31m87.0 MB/s\u001b[0m eta \u001b[36m0:00:00\u001b[0m00:01\u001b[0m0:01\u001b[0m\n",
      "\u001b[?25hRequirement already satisfied: spacy<3.6.0,>=3.5.0 in /Users/andreas/Nextcloud/cloud_atrip/Dokumente/Repos/applied-data-science/project-env/lib/python3.9/site-packages (from en-core-web-sm==3.5.0) (3.5.3)\n",
      "Requirement already satisfied: spacy-legacy<3.1.0,>=3.0.11 in /Users/andreas/Nextcloud/cloud_atrip/Dokumente/Repos/applied-data-science/project-env/lib/python3.9/site-packages (from spacy<3.6.0,>=3.5.0->en-core-web-sm==3.5.0) (3.0.12)\n",
      "Requirement already satisfied: spacy-loggers<2.0.0,>=1.0.0 in /Users/andreas/Nextcloud/cloud_atrip/Dokumente/Repos/applied-data-science/project-env/lib/python3.9/site-packages (from spacy<3.6.0,>=3.5.0->en-core-web-sm==3.5.0) (1.0.4)\n",
      "Requirement already satisfied: murmurhash<1.1.0,>=0.28.0 in /Users/andreas/Nextcloud/cloud_atrip/Dokumente/Repos/applied-data-science/project-env/lib/python3.9/site-packages (from spacy<3.6.0,>=3.5.0->en-core-web-sm==3.5.0) (1.0.9)\n",
      "Requirement already satisfied: cymem<2.1.0,>=2.0.2 in /Users/andreas/Nextcloud/cloud_atrip/Dokumente/Repos/applied-data-science/project-env/lib/python3.9/site-packages (from spacy<3.6.0,>=3.5.0->en-core-web-sm==3.5.0) (2.0.7)\n",
      "Requirement already satisfied: preshed<3.1.0,>=3.0.2 in /Users/andreas/Nextcloud/cloud_atrip/Dokumente/Repos/applied-data-science/project-env/lib/python3.9/site-packages (from spacy<3.6.0,>=3.5.0->en-core-web-sm==3.5.0) (3.0.8)\n",
      "Requirement already satisfied: thinc<8.2.0,>=8.1.8 in /Users/andreas/Nextcloud/cloud_atrip/Dokumente/Repos/applied-data-science/project-env/lib/python3.9/site-packages (from spacy<3.6.0,>=3.5.0->en-core-web-sm==3.5.0) (8.1.10)\n",
      "Requirement already satisfied: wasabi<1.2.0,>=0.9.1 in /Users/andreas/Nextcloud/cloud_atrip/Dokumente/Repos/applied-data-science/project-env/lib/python3.9/site-packages (from spacy<3.6.0,>=3.5.0->en-core-web-sm==3.5.0) (1.1.1)\n",
      "Requirement already satisfied: srsly<3.0.0,>=2.4.3 in /Users/andreas/Nextcloud/cloud_atrip/Dokumente/Repos/applied-data-science/project-env/lib/python3.9/site-packages (from spacy<3.6.0,>=3.5.0->en-core-web-sm==3.5.0) (2.4.6)\n",
      "Requirement already satisfied: catalogue<2.1.0,>=2.0.6 in /Users/andreas/Nextcloud/cloud_atrip/Dokumente/Repos/applied-data-science/project-env/lib/python3.9/site-packages (from spacy<3.6.0,>=3.5.0->en-core-web-sm==3.5.0) (2.0.8)\n",
      "Requirement already satisfied: typer<0.8.0,>=0.3.0 in /Users/andreas/Nextcloud/cloud_atrip/Dokumente/Repos/applied-data-science/project-env/lib/python3.9/site-packages (from spacy<3.6.0,>=3.5.0->en-core-web-sm==3.5.0) (0.7.0)\n",
      "Requirement already satisfied: pathy>=0.10.0 in /Users/andreas/Nextcloud/cloud_atrip/Dokumente/Repos/applied-data-science/project-env/lib/python3.9/site-packages (from spacy<3.6.0,>=3.5.0->en-core-web-sm==3.5.0) (0.10.1)\n",
      "Requirement already satisfied: smart-open<7.0.0,>=5.2.1 in /Users/andreas/Nextcloud/cloud_atrip/Dokumente/Repos/applied-data-science/project-env/lib/python3.9/site-packages (from spacy<3.6.0,>=3.5.0->en-core-web-sm==3.5.0) (6.3.0)\n",
      "Requirement already satisfied: tqdm<5.0.0,>=4.38.0 in /Users/andreas/Nextcloud/cloud_atrip/Dokumente/Repos/applied-data-science/project-env/lib/python3.9/site-packages (from spacy<3.6.0,>=3.5.0->en-core-web-sm==3.5.0) (4.65.0)\n",
      "Requirement already satisfied: numpy>=1.15.0 in /Users/andreas/Nextcloud/cloud_atrip/Dokumente/Repos/applied-data-science/project-env/lib/python3.9/site-packages (from spacy<3.6.0,>=3.5.0->en-core-web-sm==3.5.0) (1.24.3)\n",
      "Requirement already satisfied: requests<3.0.0,>=2.13.0 in /Users/andreas/Nextcloud/cloud_atrip/Dokumente/Repos/applied-data-science/project-env/lib/python3.9/site-packages (from spacy<3.6.0,>=3.5.0->en-core-web-sm==3.5.0) (2.30.0)\n",
      "Requirement already satisfied: pydantic!=1.8,!=1.8.1,<1.11.0,>=1.7.4 in /Users/andreas/Nextcloud/cloud_atrip/Dokumente/Repos/applied-data-science/project-env/lib/python3.9/site-packages (from spacy<3.6.0,>=3.5.0->en-core-web-sm==3.5.0) (1.10.7)\n",
      "Requirement already satisfied: jinja2 in /Users/andreas/Nextcloud/cloud_atrip/Dokumente/Repos/applied-data-science/project-env/lib/python3.9/site-packages (from spacy<3.6.0,>=3.5.0->en-core-web-sm==3.5.0) (3.1.2)\n",
      "Requirement already satisfied: setuptools in /Users/andreas/Nextcloud/cloud_atrip/Dokumente/Repos/applied-data-science/project-env/lib/python3.9/site-packages (from spacy<3.6.0,>=3.5.0->en-core-web-sm==3.5.0) (67.6.0)\n",
      "Requirement already satisfied: packaging>=20.0 in /Users/andreas/Nextcloud/cloud_atrip/Dokumente/Repos/applied-data-science/project-env/lib/python3.9/site-packages (from spacy<3.6.0,>=3.5.0->en-core-web-sm==3.5.0) (23.1)\n",
      "Requirement already satisfied: langcodes<4.0.0,>=3.2.0 in /Users/andreas/Nextcloud/cloud_atrip/Dokumente/Repos/applied-data-science/project-env/lib/python3.9/site-packages (from spacy<3.6.0,>=3.5.0->en-core-web-sm==3.5.0) (3.3.0)\n",
      "Requirement already satisfied: typing-extensions>=4.2.0 in /Users/andreas/Nextcloud/cloud_atrip/Dokumente/Repos/applied-data-science/project-env/lib/python3.9/site-packages (from pydantic!=1.8,!=1.8.1,<1.11.0,>=1.7.4->spacy<3.6.0,>=3.5.0->en-core-web-sm==3.5.0) (4.5.0)\n",
      "Requirement already satisfied: charset-normalizer<4,>=2 in /Users/andreas/Nextcloud/cloud_atrip/Dokumente/Repos/applied-data-science/project-env/lib/python3.9/site-packages (from requests<3.0.0,>=2.13.0->spacy<3.6.0,>=3.5.0->en-core-web-sm==3.5.0) (3.1.0)\n",
      "Requirement already satisfied: idna<4,>=2.5 in /Users/andreas/Nextcloud/cloud_atrip/Dokumente/Repos/applied-data-science/project-env/lib/python3.9/site-packages (from requests<3.0.0,>=2.13.0->spacy<3.6.0,>=3.5.0->en-core-web-sm==3.5.0) (3.4)\n",
      "Requirement already satisfied: urllib3<3,>=1.21.1 in /Users/andreas/Nextcloud/cloud_atrip/Dokumente/Repos/applied-data-science/project-env/lib/python3.9/site-packages (from requests<3.0.0,>=2.13.0->spacy<3.6.0,>=3.5.0->en-core-web-sm==3.5.0) (1.26.6)\n",
      "Requirement already satisfied: certifi>=2017.4.17 in /Users/andreas/Nextcloud/cloud_atrip/Dokumente/Repos/applied-data-science/project-env/lib/python3.9/site-packages (from requests<3.0.0,>=2.13.0->spacy<3.6.0,>=3.5.0->en-core-web-sm==3.5.0) (2023.5.7)\n",
      "Requirement already satisfied: blis<0.8.0,>=0.7.8 in /Users/andreas/Nextcloud/cloud_atrip/Dokumente/Repos/applied-data-science/project-env/lib/python3.9/site-packages (from thinc<8.2.0,>=8.1.8->spacy<3.6.0,>=3.5.0->en-core-web-sm==3.5.0) (0.7.9)\n",
      "Requirement already satisfied: confection<1.0.0,>=0.0.1 in /Users/andreas/Nextcloud/cloud_atrip/Dokumente/Repos/applied-data-science/project-env/lib/python3.9/site-packages (from thinc<8.2.0,>=8.1.8->spacy<3.6.0,>=3.5.0->en-core-web-sm==3.5.0) (0.0.4)\n",
      "Requirement already satisfied: click<9.0.0,>=7.1.1 in /Users/andreas/Nextcloud/cloud_atrip/Dokumente/Repos/applied-data-science/project-env/lib/python3.9/site-packages (from typer<0.8.0,>=0.3.0->spacy<3.6.0,>=3.5.0->en-core-web-sm==3.5.0) (8.1.3)\n",
      "Requirement already satisfied: MarkupSafe>=2.0 in /Users/andreas/Nextcloud/cloud_atrip/Dokumente/Repos/applied-data-science/project-env/lib/python3.9/site-packages (from jinja2->spacy<3.6.0,>=3.5.0->en-core-web-sm==3.5.0) (2.1.2)\n",
      "\u001b[38;5;2m✔ Download and installation successful\u001b[0m\n",
      "You can now load the package via spacy.load('en_core_web_sm')\n"
     ]
    }
   ],
   "source": [
    "!python3 -m spacy download en_core_web_sm"
   ]
  },
  {
   "cell_type": "code",
   "execution_count": 15,
   "metadata": {},
   "outputs": [
    {
     "data": {
      "text/html": [
       "<div>\n",
       "<style scoped>\n",
       "    .dataframe tbody tr th:only-of-type {\n",
       "        vertical-align: middle;\n",
       "    }\n",
       "\n",
       "    .dataframe tbody tr th {\n",
       "        vertical-align: top;\n",
       "    }\n",
       "\n",
       "    .dataframe thead th {\n",
       "        text-align: right;\n",
       "    }\n",
       "</style>\n",
       "<table border=\"1\" class=\"dataframe\">\n",
       "  <thead>\n",
       "    <tr style=\"text-align: right;\">\n",
       "      <th></th>\n",
       "      <th>rating_overall</th>\n",
       "      <th>comments</th>\n",
       "    </tr>\n",
       "  </thead>\n",
       "  <tbody>\n",
       "    <tr>\n",
       "      <th>0</th>\n",
       "      <td>4.28</td>\n",
       "      <td>Zum Übernachten optimal für eine Person.\\nFür ...</td>\n",
       "    </tr>\n",
       "    <tr>\n",
       "      <th>0</th>\n",
       "      <td>4.28</td>\n",
       "      <td>Super Gastgeber!\\nStudio für das Geld absolut ...</td>\n",
       "    </tr>\n",
       "    <tr>\n",
       "      <th>0</th>\n",
       "      <td>4.28</td>\n",
       "      <td>Gut gelegene und günstige Unterkunft mitten in...</td>\n",
       "    </tr>\n",
       "    <tr>\n",
       "      <th>0</th>\n",
       "      <td>4.28</td>\n",
       "      <td>Für Kurzübernachtungen gut, sauber sowohl Zimm...</td>\n",
       "    </tr>\n",
       "    <tr>\n",
       "      <th>0</th>\n",
       "      <td>4.28</td>\n",
       "      <td>naja</td>\n",
       "    </tr>\n",
       "    <tr>\n",
       "      <th>...</th>\n",
       "      <td>...</td>\n",
       "      <td>...</td>\n",
       "    </tr>\n",
       "    <tr>\n",
       "      <th>959</th>\n",
       "      <td>4.97</td>\n",
       "      <td>An exceptionally stylish and comfortable apart...</td>\n",
       "    </tr>\n",
       "    <tr>\n",
       "      <th>959</th>\n",
       "      <td>4.97</td>\n",
       "      <td>Dear Nick and family, it was a pleasure to hos...</td>\n",
       "    </tr>\n",
       "    <tr>\n",
       "      <th>959</th>\n",
       "      <td>4.97</td>\n",
       "      <td>Lucas and Claudio are wonderful hosts, very at...</td>\n",
       "    </tr>\n",
       "    <tr>\n",
       "      <th>959</th>\n",
       "      <td>4.97</td>\n",
       "      <td>Dear Tina, it was a true pleasure to host you,...</td>\n",
       "    </tr>\n",
       "    <tr>\n",
       "      <th>959</th>\n",
       "      <td>4.97</td>\n",
       "      <td>Thoroughly enjoyed my stay at Lucas’ property....</td>\n",
       "    </tr>\n",
       "  </tbody>\n",
       "</table>\n",
       "<p>4590 rows × 2 columns</p>\n",
       "</div>"
      ],
      "text/plain": [
       "     rating_overall                                           comments\n",
       "0              4.28  Zum Übernachten optimal für eine Person.\\nFür ...\n",
       "0              4.28  Super Gastgeber!\\nStudio für das Geld absolut ...\n",
       "0              4.28  Gut gelegene und günstige Unterkunft mitten in...\n",
       "0              4.28  Für Kurzübernachtungen gut, sauber sowohl Zimm...\n",
       "0              4.28                                               naja\n",
       "..              ...                                                ...\n",
       "959            4.97  An exceptionally stylish and comfortable apart...\n",
       "959            4.97  Dear Nick and family, it was a pleasure to hos...\n",
       "959            4.97  Lucas and Claudio are wonderful hosts, very at...\n",
       "959            4.97  Dear Tina, it was a true pleasure to host you,...\n",
       "959            4.97  Thoroughly enjoyed my stay at Lucas’ property....\n",
       "\n",
       "[4590 rows x 2 columns]"
      ]
     },
     "execution_count": 15,
     "metadata": {},
     "output_type": "execute_result"
    }
   ],
   "source": [
    "# convert string array into actual array\n",
    "df['comments'] = df['comments'].apply(lambda x: ast.literal_eval(x))\n",
    "# create a row for each string in string array\n",
    "df = df.explode('comments')\n",
    "df"
   ]
  },
  {
   "cell_type": "code",
   "execution_count": 16,
   "metadata": {},
   "outputs": [
    {
     "name": "stderr",
     "output_type": "stream",
     "text": [
      "Warning : `load_model` does not return WordVectorModel or SupervisedModel any more, but a `FastText` object which is very similar.\n"
     ]
    }
   ],
   "source": [
    "# define methode to translate to german and remove \"Mehr anzeigen\"\n",
    "nlp = spacy.load(\"en_core_web_sm\")\n",
    "nlp.add_pipe(\"language_detector\")\n",
    "\n",
    "def translate_to_german(comment):\n",
    "    doc = nlp(comment)\n",
    "    if doc._.language == 'de':\n",
    "        return comment\n",
    "    else:\n",
    "        return GoogleTranslator(source='auto', target='de').translate(comment)"
   ]
  },
  {
   "cell_type": "code",
   "execution_count": 17,
   "metadata": {},
   "outputs": [
    {
     "data": {
      "text/plain": [
       "0      Zum Übernachten optimal für eine Person.\\nFür ...\n",
       "0      Super Gastgeber!\\nStudio für das Geld absolut ...\n",
       "0      Gut gelegene und günstige Unterkunft mitten in...\n",
       "0      Für Kurzübernachtungen gut, sauber sowohl Zimm...\n",
       "0                                                   naja\n",
       "                             ...                        \n",
       "959    Eine außergewöhnlich stilvolle und komfortable...\n",
       "959    Lieber Nick und Familie, es war mir eine Freud...\n",
       "959    Lucas und Claudio sind wundervolle Gastgeber, ...\n",
       "959    Liebe Tina, es war mir eine wahre Freude, Sie ...\n",
       "959    Ich habe meinen Aufenthalt in Lucas‘ Anwesen s...\n",
       "Name: comments, Length: 4590, dtype: object"
      ]
     },
     "execution_count": 17,
     "metadata": {},
     "output_type": "execute_result"
    }
   ],
   "source": [
    "# translate comments to german if they are not already german\n",
    "df = df['comments'].apply(translate_to_german)\n",
    "df"
   ]
  },
  {
   "cell_type": "code",
   "execution_count": 19,
   "metadata": {},
   "outputs": [],
   "source": [
    "df.to_csv('/home/jovyan/raw_comments.csv', sep=';')"
   ]
  }
 ],
 "metadata": {
  "kernelspec": {
   "display_name": "adsenv",
   "language": "python",
   "name": "python3"
  },
  "language_info": {
   "codemirror_mode": {
    "name": "ipython",
    "version": 3
   },
   "file_extension": ".py",
   "mimetype": "text/x-python",
   "name": "python",
   "nbconvert_exporter": "python",
   "pygments_lexer": "ipython3",
   "version": "3.9.6"
  },
  "orig_nbformat": 4
 },
 "nbformat": 4,
 "nbformat_minor": 2
}
