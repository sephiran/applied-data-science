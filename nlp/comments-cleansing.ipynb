{
 "cells": [
  {
   "cell_type": "code",
   "execution_count": 56,
   "metadata": {},
   "outputs": [],
   "source": [
    "import pandas as pd\n",
    "import ast\n",
    "from langdetect import detect\n",
    "\n",
    "df = pd.read_csv('../data/airbnb_rental_prices_combined.csv', sep=';')"
   ]
  },
  {
   "cell_type": "code",
   "execution_count": 57,
   "metadata": {},
   "outputs": [
    {
     "data": {
      "text/html": [
       "<div>\n",
       "<style scoped>\n",
       "    .dataframe tbody tr th:only-of-type {\n",
       "        vertical-align: middle;\n",
       "    }\n",
       "\n",
       "    .dataframe tbody tr th {\n",
       "        vertical-align: top;\n",
       "    }\n",
       "\n",
       "    .dataframe thead th {\n",
       "        text-align: right;\n",
       "    }\n",
       "</style>\n",
       "<table border=\"1\" class=\"dataframe\">\n",
       "  <thead>\n",
       "    <tr style=\"text-align: right;\">\n",
       "      <th></th>\n",
       "      <th>rating_overall</th>\n",
       "      <th>comments</th>\n",
       "    </tr>\n",
       "  </thead>\n",
       "  <tbody>\n",
       "    <tr>\n",
       "      <th>0</th>\n",
       "      <td>4.28</td>\n",
       "      <td>['Zum Übernachten optimal für eine Person.\\nFü...</td>\n",
       "    </tr>\n",
       "    <tr>\n",
       "      <th>1</th>\n",
       "      <td>0.00</td>\n",
       "      <td>[]</td>\n",
       "    </tr>\n",
       "    <tr>\n",
       "      <th>2</th>\n",
       "      <td>4.67</td>\n",
       "      <td>['The house is perfectly connected to the cent...</td>\n",
       "    </tr>\n",
       "    <tr>\n",
       "      <th>3</th>\n",
       "      <td>0.00</td>\n",
       "      <td>[]</td>\n",
       "    </tr>\n",
       "    <tr>\n",
       "      <th>4</th>\n",
       "      <td>0.00</td>\n",
       "      <td>[]</td>\n",
       "    </tr>\n",
       "  </tbody>\n",
       "</table>\n",
       "</div>"
      ],
      "text/plain": [
       "   rating_overall                                           comments\n",
       "0            4.28  ['Zum Übernachten optimal für eine Person.\\nFü...\n",
       "1            0.00                                                 []\n",
       "2            4.67  ['The house is perfectly connected to the cent...\n",
       "3            0.00                                                 []\n",
       "4            0.00                                                 []"
      ]
     },
     "execution_count": 57,
     "metadata": {},
     "output_type": "execute_result"
    }
   ],
   "source": [
    "#only use rating_overall & comments\n",
    "df = df[['rating_overall', 'comments']]\n",
    "df.head()"
   ]
  },
  {
   "cell_type": "code",
   "execution_count": 58,
   "metadata": {},
   "outputs": [],
   "source": [
    "# only use rows with a rating_overall\n",
    "df = df[df['rating_overall'] != 0.0]"
   ]
  },
  {
   "cell_type": "code",
   "execution_count": 59,
   "metadata": {},
   "outputs": [
    {
     "name": "stdout",
     "output_type": "stream",
     "text": [
      "     rating_overall                                           comments\n",
      "0              4.28  Zum Übernachten optimal für eine Person.\\nFür ...\n",
      "0              4.28  Super Gastgeber!\\nStudio für das Geld absolut ...\n",
      "0              4.28  Gut gelegene und günstige Unterkunft mitten in...\n",
      "0              4.28  Für Kurzübernachtungen gut, sauber sowohl Zimm...\n",
      "0              4.28                                               naja\n",
      "..              ...                                                ...\n",
      "503            4.97  An exceptionally stylish and comfortable apart...\n",
      "503            4.97  Dear Nick and family, it was a pleasure to hos...\n",
      "503            4.97  Lucas and Claudio are wonderful hosts, very at...\n",
      "503            4.97  Dear Tina, it was a true pleasure to host you,...\n",
      "503            4.97  Thoroughly enjoyed my stay at Lucas’ property....\n",
      "\n",
      "[4497 rows x 2 columns]\n"
     ]
    }
   ],
   "source": [
    "# reset index\n",
    "df.reset_index(drop=True, inplace=True)\n",
    "#df['id'] = df.index\n",
    "\n",
    "# convert string array into actual array\n",
    "df['comments'] = df['comments'].apply(lambda x: ast.literal_eval(x))\n",
    "# create a row for each string in string array\n",
    "df = df.explode('comments')\n",
    "print(df)"
   ]
  },
  {
   "cell_type": "code",
   "execution_count": 60,
   "metadata": {},
   "outputs": [
    {
     "name": "stdout",
     "output_type": "stream",
     "text": [
      "     rating_overall                                           comments\n",
      "0              4.28  Zum Übernachten optimal für eine Person.\\nFür ...\n",
      "0              4.28  Super Gastgeber!\\nStudio für das Geld absolut ...\n",
      "0              4.28  Gut gelegene und günstige Unterkunft mitten in...\n",
      "0              4.28  Für Kurzübernachtungen gut, sauber sowohl Zimm...\n",
      "0              4.28  Freundliche Hausbewohner und ich konnte auf de...\n",
      "..              ...                                                ...\n",
      "501            5.00  Simons Haus war wirklich ein toller Aufenthalt...\n",
      "501            5.00  Simons Haus hatte viel Platz für unsere Gruppe...\n",
      "501            5.00  Simon war der großartige Gastgeber, tolle Gast...\n",
      "503            4.97  Wir haben uns direkt total willkommen gefühlt!...\n",
      "503            4.97  Danke Stefan, es war mir eine grosse Freude eu...\n",
      "\n",
      "[3717 rows x 2 columns]\n"
     ]
    }
   ],
   "source": [
    "# detect if comment is german\n",
    "def is_german(text):\n",
    "    try:\n",
    "        lang = detect(text)\n",
    "    except:\n",
    "        return False\n",
    "    return lang == 'de'\n",
    "\n",
    "# only use comments that are in german\n",
    "df = df[df['comments'].apply(is_german)]\n",
    "print(df)"
   ]
  },
  {
   "cell_type": "code",
   "execution_count": 61,
   "metadata": {},
   "outputs": [
    {
     "name": "stdout",
     "output_type": "stream",
     "text": [
      "     rating_overall                                           comments\n",
      "0              4.28  Zum Übernachten optimal für eine Person.\\nFür ...\n",
      "0              4.28  Super Gastgeber!\\nStudio für das Geld absolut ...\n",
      "0              4.28  Gut gelegene und günstige Unterkunft mitten in...\n",
      "0              4.28  Für Kurzübernachtungen gut, sauber sowohl Zimm...\n",
      "0              4.28  Freundliche Hausbewohner und ich konnte auf de...\n",
      "..              ...                                                ...\n",
      "501            5.00  Simons Haus war wirklich ein toller Aufenthalt...\n",
      "501            5.00  Simons Haus hatte viel Platz für unsere Gruppe...\n",
      "501            5.00  Simon war der großartige Gastgeber, tolle Gast...\n",
      "503            4.97  Wir haben uns direkt total willkommen gefühlt!...\n",
      "503            4.97  Danke Stefan, es war mir eine grosse Freude eu...\n",
      "\n",
      "[3717 rows x 2 columns]\n"
     ]
    }
   ],
   "source": [
    "# drop null values\n",
    "df = df.dropna(subset=['comments'])\n",
    "print(df)"
   ]
  },
  {
   "cell_type": "code",
   "execution_count": 62,
   "metadata": {},
   "outputs": [
    {
     "data": {
      "text/html": [
       "<div>\n",
       "<style scoped>\n",
       "    .dataframe tbody tr th:only-of-type {\n",
       "        vertical-align: middle;\n",
       "    }\n",
       "\n",
       "    .dataframe tbody tr th {\n",
       "        vertical-align: top;\n",
       "    }\n",
       "\n",
       "    .dataframe thead th {\n",
       "        text-align: right;\n",
       "    }\n",
       "</style>\n",
       "<table border=\"1\" class=\"dataframe\">\n",
       "  <thead>\n",
       "    <tr style=\"text-align: right;\">\n",
       "      <th></th>\n",
       "      <th>rating_overall</th>\n",
       "      <th>comments</th>\n",
       "    </tr>\n",
       "  </thead>\n",
       "  <tbody>\n",
       "    <tr>\n",
       "      <th>0</th>\n",
       "      <td>4.28</td>\n",
       "      <td>Zum Übernachten optimal für eine Person.\\nFür ...</td>\n",
       "    </tr>\n",
       "    <tr>\n",
       "      <th>0</th>\n",
       "      <td>4.28</td>\n",
       "      <td>Super Gastgeber!\\nStudio für das Geld absolut ...</td>\n",
       "    </tr>\n",
       "    <tr>\n",
       "      <th>0</th>\n",
       "      <td>4.28</td>\n",
       "      <td>Gut gelegene und günstige Unterkunft mitten in...</td>\n",
       "    </tr>\n",
       "    <tr>\n",
       "      <th>0</th>\n",
       "      <td>4.28</td>\n",
       "      <td>Für Kurzübernachtungen gut, sauber sowohl Zimm...</td>\n",
       "    </tr>\n",
       "    <tr>\n",
       "      <th>0</th>\n",
       "      <td>4.28</td>\n",
       "      <td>Freundliche Hausbewohner und ich konnte auf de...</td>\n",
       "    </tr>\n",
       "  </tbody>\n",
       "</table>\n",
       "</div>"
      ],
      "text/plain": [
       "   rating_overall                                           comments\n",
       "0            4.28  Zum Übernachten optimal für eine Person.\\nFür ...\n",
       "0            4.28  Super Gastgeber!\\nStudio für das Geld absolut ...\n",
       "0            4.28  Gut gelegene und günstige Unterkunft mitten in...\n",
       "0            4.28  Für Kurzübernachtungen gut, sauber sowohl Zimm...\n",
       "0            4.28  Freundliche Hausbewohner und ich konnte auf de..."
      ]
     },
     "execution_count": 62,
     "metadata": {},
     "output_type": "execute_result"
    }
   ],
   "source": [
    "# move col id to first place in df\n",
    "#cols = ['id'] + [col for col in df.columns if col != 'id']\n",
    "#df = df[cols]\n",
    "df.head()"
   ]
  },
  {
   "cell_type": "code",
   "execution_count": 63,
   "metadata": {},
   "outputs": [],
   "source": [
    "df.to_csv('../data/raw_comments.csv', sep=';')"
   ]
  }
 ],
 "metadata": {
  "kernelspec": {
   "display_name": "adsenv",
   "language": "python",
   "name": "python3"
  },
  "language_info": {
   "codemirror_mode": {
    "name": "ipython",
    "version": 3
   },
   "file_extension": ".py",
   "mimetype": "text/x-python",
   "name": "python",
   "nbconvert_exporter": "python",
   "pygments_lexer": "ipython3",
   "version": "3.10.10"
  },
  "orig_nbformat": 4
 },
 "nbformat": 4,
 "nbformat_minor": 2
}
